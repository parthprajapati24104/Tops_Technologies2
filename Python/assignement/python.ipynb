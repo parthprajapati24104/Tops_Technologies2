{
  "nbformat": 4,
  "nbformat_minor": 0,
  "metadata": {
    "colab": {
      "provenance": []
    },
    "kernelspec": {
      "name": "python3",
      "display_name": "Python 3"
    },
    "language_info": {
      "name": "python"
    }
  },
  "cells": [
    {
      "cell_type": "markdown",
      "source": [],
      "metadata": {
        "id": "cvQbuhQs0kBZ"
      }
    },
    {
      "cell_type": "markdown",
      "source": [
        "1   What are the types of Applications?\n",
        "ans\n",
        "\n",
        "\n",
        " 1) Web Applications\n",
        "Frameworks: Django, Flask, FastAPI\n",
        "\n",
        "Examples: Instagram, Pinterest, Reddit\n",
        "\n",
        "2) Desktop Applications (GUI)\n",
        "Libraries: PyQt, Tkinter, Kivy, PySide\n",
        "\n",
        "Examples: File managers, media players, text editors\n",
        "\n",
        "3) Data Science & Analytics Applications\n",
        "Libraries: Pandas, NumPy, Matplotlib, Seaborn\n",
        "\n",
        "Examples: Data visualization dashboards, financial analysis tools\n",
        "\n",
        "4) Machine Learning & AI Applications\n",
        "Libraries: TensorFlow, PyTorch, Scikit-learn, OpenCV\n",
        "\n",
        "Examples: Image recognition, chatbots, recommendation systems\n",
        "\n",
        "5) Game Development\n",
        "Libraries: Pygame, Panda3D, Arcade\n",
        "\n",
        "Examples: 2D platformers, puzzle games\n",
        "\n",
        "6) Automation & Scripting\n",
        "Libraries: Selenium, BeautifulSoup, PyAutoGUI\n",
        "\n",
        "Examples: Web scraping, task automation, testing scripts\n",
        "7) Networking Applications\n",
        "Libraries: Scapy, Twisted, Paramiko\n",
        "\n",
        "Examples: Network security tools, server monitoring\n",
        "\n",
        "8) Embedded Systems & IoT\n",
        "Libraries: MicroPython, CircuitPython\n",
        "\n",
        "Examples: Home automation, IoT-based monitoring systems\n",
        "\n",
        "9) Blockchain & Cryptocurrency Applications\n",
        "Libraries: Web3.py, PyCryptodome\n",
        "\n",
        "Examples: Smart contracts, crypto wallets\n",
        "\n",
        "10) Cybersecurity & Ethical Hacking Tools\n",
        "Libraries: Nmap, Requests, Cryptography\n",
        "\n"
      ],
      "metadata": {
        "id": "NhuN9y4H0yVV"
      }
    },
    {
      "cell_type": "code",
      "source": [],
      "metadata": {
        "id": "7YjKtYZZ0_Co"
      },
      "execution_count": null,
      "outputs": []
    },
    {
      "cell_type": "markdown",
      "source": [
        "2) What is programing?\n",
        "ans\n",
        "\n",
        "Programming is the process of writing, designing, testing, and maintaining instructions (code) that a computer can execute to perform specific tasks."
      ],
      "metadata": {
        "id": "nWHM0pFd1Bvm"
      }
    },
    {
      "cell_type": "markdown",
      "source": [
        "3) What is Python?\n",
        "\n",
        "ans\n",
        "\n",
        "Python is a high-level, interpreted, and general-purpose programming language that is widely used for web development, data science, automation, AI, and more. It is known for its simple syntax, readability, and versatility."
      ],
      "metadata": {
        "id": "hnMZ0WMy1OaE"
      }
    },
    {
      "cell_type": "code",
      "source": [
        "#4 Write a Python program to check if a number is positive, negative or zero\n",
        "num = float(input(\"Enter a number: \"))\n",
        "\n",
        "# Check the number\n",
        "if num > 0:\n",
        "    print(\"The number is Positive.\")\n",
        "elif num < 0:\n",
        "    print(\"The number is Negative.\")\n",
        "else:\n",
        "    print(\"The number is Zero.\")\n"
      ],
      "metadata": {
        "colab": {
          "base_uri": "https://localhost:8080/"
        },
        "id": "V3X5OU3s1U3M",
        "outputId": "5a0e8cc4-821f-466f-f4bb-9320d07923c0"
      },
      "execution_count": null,
      "outputs": [
        {
          "output_type": "stream",
          "name": "stdout",
          "text": [
            "Enter a number: 24\n",
            "The number is Positive.\n"
          ]
        }
      ]
    },
    {
      "cell_type": "code",
      "source": [
        "# 5)Write a Python program to get the Factorial number of given numbers.\n",
        "\n",
        "\n",
        "num = int(input(\"Enter a number: \"))\n",
        "\n",
        "# Initialize factorial\n",
        "factorial = 1\n",
        "\n",
        "# Check if the number is negative, zero, or positive\n",
        "if num < 0:\n",
        "    print(\"Factorial is not defined for negative numbers.\")\n",
        "elif num == 0:\n",
        "    print(\"The factorial of 0 is 1.\")\n",
        "else:\n",
        "    for i in range(1, num + 1):\n",
        "        factorial *= i\n",
        "    print(f\"The factorial of {num} is {factorial}.\")"
      ],
      "metadata": {
        "colab": {
          "base_uri": "https://localhost:8080/"
        },
        "id": "knYn1I071X5r",
        "outputId": "36f62f93-1162-4a71-e255-d90cd324dd71"
      },
      "execution_count": null,
      "outputs": [
        {
          "output_type": "stream",
          "name": "stdout",
          "text": [
            "Enter a number: 4\n",
            "The factorial of 4 is 24.\n"
          ]
        }
      ]
    },
    {
      "cell_type": "code",
      "source": [
        "# 6)Write a Python program to get the Fibonacci series of given range.\n",
        "\n",
        "n = int(input(\"Enter the range for Fibonacci series: \"))\n",
        "\n",
        "# Initialize first two terms\n",
        "a, b = 0, 1\n",
        "\n",
        "# Print Fibonacci series\n",
        "print(\"Fibonacci Series:\")\n",
        "for _ in range(n):\n",
        "    print(a, end=\" \")\n",
        "    a, b = b, a + b"
      ],
      "metadata": {
        "colab": {
          "base_uri": "https://localhost:8080/"
        },
        "id": "mjBz7JA81X_l",
        "outputId": "32a49724-87bc-42a6-96c6-6eeffba0ebec"
      },
      "execution_count": null,
      "outputs": [
        {
          "output_type": "stream",
          "name": "stdout",
          "text": [
            "Enter the range for Fibonacci series: 3\n",
            "Fibonacci Series:\n",
            "0 1 1 "
          ]
        }
      ]
    },
    {
      "cell_type": "markdown",
      "source": [
        "7)How memory is managed in Python?\n",
        "\n",
        "Python automates memory management with garbage collection, reference counting, and memory pools. However, understanding these concepts helps optimize performance when working with large datasets or memory-intensive applications."
      ],
      "metadata": {
        "id": "bKnKUEcG1tx3"
      }
    },
    {
      "cell_type": "markdown",
      "source": [
        "8)What is the purpose continuing statement in python?\n",
        "\n",
        "The continue statement is used inside loops to skip the current iteration and move to the next one without exiting the loop."
      ],
      "metadata": {
        "id": "1PyFmlqR1xzu"
      }
    },
    {
      "cell_type": "code",
      "source": [
        "#9) Write python program that swap two number with temp variable and without temp variable.\n",
        "\n",
        "a = int(input(\"Enter first number: \"))\n",
        "b = int(input(\"Enter second number: \"))\n",
        "\n",
        "temp = a\n",
        "a = b\n",
        "b = temp\n",
        "\n",
        "print(f\"After swapping: a = {a}, b = {b}\")"
      ],
      "metadata": {
        "colab": {
          "base_uri": "https://localhost:8080/"
        },
        "id": "Nvi6tTG712Ds",
        "outputId": "b948bb62-d04b-4696-cfa0-6ed3ec92d98b"
      },
      "execution_count": null,
      "outputs": [
        {
          "output_type": "stream",
          "name": "stdout",
          "text": [
            "Enter first number: 2\n",
            "Enter second number: 3\n",
            "After swapping: a = 3, b = 2\n"
          ]
        }
      ]
    },
    {
      "cell_type": "code",
      "source": [
        "#10) Write a Python program to find whether a given number is even or odd, print out an appropriate message to the user\n",
        "\n",
        "num = int(input(\"Enter a number: \"))\n",
        "\n",
        "# Check if the number is even or odd\n",
        "if num % 2 == 0:\n",
        "    print(f\"{num} is an Even number.\")\n",
        "else:\n",
        "    print(f\"{num} is an Odd number.\")\n",
        "\n",
        "\n"
      ],
      "metadata": {
        "colab": {
          "base_uri": "https://localhost:8080/"
        },
        "id": "KmqmeGCH18XP",
        "outputId": "e5034484-f9f3-4e88-89ac-0ffdeda06048"
      },
      "execution_count": null,
      "outputs": [
        {
          "output_type": "stream",
          "name": "stdout",
          "text": [
            "Enter a number: 54\n",
            "54 is an Even number.\n"
          ]
        }
      ]
    },
    {
      "cell_type": "code",
      "source": [
        "#11) Write a Python program to test whether a passed letter is a vowel or not.\n",
        "\n",
        "def is_vowel(letter):\n",
        "    # Convert the letter to lowercase for consistency\n",
        "    letter = letter.lower()\n",
        "    # Check if the letter is in the set of vowels\n",
        "    if letter in ['a', 'e', 'i', 'o', 'u']:\n",
        "        return True\n",
        "    else:\n",
        "        return False\n",
        "\n",
        "# Get input from the user\n",
        "letter = input(\"Enter a single letter: \")\n",
        "\n",
        "# Validate the input\n",
        "if len(letter) == 1 and letter.isalpha():\n",
        "    if is_vowel(letter):\n",
        "        print(f\"{letter} is a vowel.\")\n",
        "    else:\n",
        "        print(f\"{letter} is not a vowel.\")\n",
        "else:\n",
        "    print(\"Please enter a single alphabetic character.\")"
      ],
      "metadata": {
        "colab": {
          "base_uri": "https://localhost:8080/"
        },
        "id": "WhfEgPye18j4",
        "outputId": "b582fbe9-faac-4cd2-aa6a-7e4b162918a3"
      },
      "execution_count": null,
      "outputs": [
        {
          "output_type": "stream",
          "name": "stdout",
          "text": [
            "Enter a single letter: 1\n",
            "Please enter a single alphabetic character.\n"
          ]
        }
      ]
    },
    {
      "cell_type": "code",
      "source": [
        " # 12) Write a Python program to sum of three given integers. However, if two values are equal sum will be zero.\n",
        "\n",
        "def sum_three(x, y, z):\n",
        "  if x == y or y == z or x==z:\n",
        "    sum = 0\n",
        "  else:\n",
        "    sum = x + y + z\n",
        "  return sum\n",
        "\n",
        "print(sum_three(2, 1, 2))\n",
        "print(sum_three(3, 2, 2))\n",
        "print(sum_three(2, 2, 2))\n",
        "print(sum_three(1, 2, 3))\n",
        "\n",
        "\n"
      ],
      "metadata": {
        "colab": {
          "base_uri": "https://localhost:8080/"
        },
        "id": "TU-l6z9h18-u",
        "outputId": "0cec4624-efd6-4c81-c747-eda5ab180180"
      },
      "execution_count": null,
      "outputs": [
        {
          "output_type": "stream",
          "name": "stdout",
          "text": [
            "0\n",
            "0\n",
            "0\n",
            "6\n"
          ]
        }
      ]
    },
    {
      "cell_type": "code",
      "source": [
        "# 13) Write a Python program that will return true if the two given integer values are equal or their sum or difference is 5.\n",
        "\n",
        "def check_numbers(x, y):\n",
        "  if x == y or abs(x + y) == 5 or abs(x - y) == 5:\n",
        "    return True\n",
        "  else:\n",
        "    return False\n",
        "\n"
      ],
      "metadata": {
        "id": "UnPj98mUlOIs"
      },
      "execution_count": null,
      "outputs": []
    },
    {
      "cell_type": "code",
      "source": [
        "# prompt: 14)Write a python program to sum of the first n positive integers.\n",
        "\n",
        "def sum_n_positive(n):\n",
        "  sum = 0\n",
        "  for i in range(1, n + 1):\n",
        "    sum += i\n",
        "  return sum\n",
        "\n",
        "print(sum_n_positive(5)) #example\n"
      ],
      "metadata": {
        "colab": {
          "base_uri": "https://localhost:8080/"
        },
        "id": "XpX2lxZ1mCpu",
        "outputId": "c4f6069a-5a6f-451f-b6c6-d4a85a1b8978"
      },
      "execution_count": null,
      "outputs": [
        {
          "output_type": "stream",
          "name": "stdout",
          "text": [
            "15\n"
          ]
        }
      ]
    },
    {
      "cell_type": "code",
      "source": [
        "# prompt: 15)Write a Python program to calculate the length of a string.\n",
        "\n",
        "def string_length(str1):\n",
        "    count = 0\n",
        "    for char in str1:\n",
        "        count += 1\n",
        "    return count\n",
        "print(string_length('parth prajapati'))\n"
      ],
      "metadata": {
        "colab": {
          "base_uri": "https://localhost:8080/"
        },
        "id": "VtcuEDnQmYkv",
        "outputId": "026dc92f-9a80-4555-a05d-af90e82f25bf"
      },
      "execution_count": null,
      "outputs": [
        {
          "output_type": "stream",
          "name": "stdout",
          "text": [
            "15\n"
          ]
        }
      ]
    },
    {
      "cell_type": "code",
      "source": [
        "# prompt: 16) Write a Python program to count the number of characters\n",
        "# (character frequency) in a string\n",
        "\n",
        "def char_frequency(str1):\n",
        "    dict = {}\n",
        "    for n in str1:\n",
        "        keys = dict.keys()\n",
        "        if n in keys:\n",
        "            dict[n] += 1\n",
        "        else:\n",
        "            dict[n] = 1\n",
        "    return dict\n",
        "print(char_frequency('parth prajapti'))\n"
      ],
      "metadata": {
        "colab": {
          "base_uri": "https://localhost:8080/"
        },
        "id": "5q7QAuBMmmRb",
        "outputId": "678640ce-8a78-45f0-cc78-7a37eb87b901"
      },
      "execution_count": null,
      "outputs": [
        {
          "output_type": "stream",
          "name": "stdout",
          "text": [
            "{'p': 3, 'a': 3, 'r': 2, 't': 2, 'h': 1, ' ': 1, 'j': 1, 'i': 1}\n"
          ]
        }
      ]
    },
    {
      "cell_type": "markdown",
      "source": [
        "17)What are negative indexes and why are they used?\n",
        "\n",
        "In Python, negative indexes are used to access elements from the end of a list, tuple, or string, rather than the beginning.\n",
        "\n",
        "Easy access to the end elements:\n",
        "\n",
        "No need to calculate the length to get the last few items.\n",
        "\n",
        "Convenient for slicing:\n",
        "\n",
        "Especially useful when working with variable-length sequences.\n",
        "\n",
        "\n",
        "\n"
      ],
      "metadata": {
        "id": "BorV55n7nAWz"
      }
    },
    {
      "cell_type": "code",
      "source": [
        "# prompt: 18)Write a Python program to count occurrences of a substring in a string.\n",
        "\n",
        "def count_substring(string, substring):\n",
        "  \"\"\"Counts the occurrences of a substring in a string.\n",
        "\n",
        "  Args:\n",
        "    string: The string to search in.\n",
        "    substring: The substring to search for.\n",
        "\n",
        "  Returns:\n",
        "    The number of times the substring appears in the string.\n",
        "  \"\"\"\n",
        "  count = 0\n",
        "  start = 0\n",
        "  while True:\n",
        "    start = string.find(substring, start)\n",
        "    if start == -1:\n",
        "      return count\n",
        "    count += 1\n",
        "    start += 1  # Move to the next position to avoid counting overlapping occurrences\n",
        "\n",
        "# Example usage\n",
        "string = \"parth prajapati prajapati\"\n",
        "substring = \"prajapati\"\n",
        "occurrences = count_substring(string, substring)\n",
        "print(f\"The substring '{substring}' appears {occurrences} times in the string.\")\n",
        "\n"
      ],
      "metadata": {
        "colab": {
          "base_uri": "https://localhost:8080/"
        },
        "id": "rLx6CihNna6_",
        "outputId": "01f1cc0c-bdc8-4afd-edf0-894135283563"
      },
      "execution_count": null,
      "outputs": [
        {
          "output_type": "stream",
          "name": "stdout",
          "text": [
            "The substring 'prajapati' appears 2 times in the string.\n"
          ]
        }
      ]
    },
    {
      "cell_type": "code",
      "source": [
        "# prompt: 19) Write a Python program to count the occurrences of each word in a given sentance\n",
        "\n",
        "def word_count(sentence):\n",
        "  \"\"\"Counts the occurrences of each word in a given sentence.\n",
        "\n",
        "  Args:\n",
        "    sentence: The input sentence.\n",
        "\n",
        "  Returns:\n",
        "    A dictionary where keys are words and values are their counts.\n",
        "  \"\"\"\n",
        "  words = sentence.lower().split()  # Convert to lowercase and split into words\n",
        "  word_counts = {}\n",
        "  for word in words:\n",
        "    if word in word_counts:\n",
        "      word_counts[word] += 1\n",
        "    else:\n",
        "      word_counts[word] = 1\n",
        "  return word_counts\n",
        "\n",
        "# Example usage\n",
        "sentence = \"my name is parth prajapati\"\n",
        "result = word_count(sentence)\n",
        "result\n"
      ],
      "metadata": {
        "colab": {
          "base_uri": "https://localhost:8080/"
        },
        "id": "FsrCS8JgnslI",
        "outputId": "634a0bef-85d2-460d-a3ee-73ff63006c6a"
      },
      "execution_count": null,
      "outputs": [
        {
          "output_type": "execute_result",
          "data": {
            "text/plain": [
              "{'my': 1, 'name': 1, 'is': 1, 'parth': 1, 'prajapati': 1}"
            ]
          },
          "metadata": {},
          "execution_count": 16
        }
      ]
    },
    {
      "cell_type": "code",
      "source": [
        "# prompt: 20) Write a Python program to get a single string from two given strings,\n",
        "# separated by a space and swap the first two characters of each string.\n",
        "\n",
        "def chars_mix_up(a, b):\n",
        "  new_a = b[:2] + a[2:]\n",
        "  new_b = a[:2] + b[2:]\n",
        "  return new_a + ' ' + new_b\n",
        "print(chars_mix_up('abc', 'xyz'))\n"
      ],
      "metadata": {
        "colab": {
          "base_uri": "https://localhost:8080/"
        },
        "id": "aeXIks_3n74O",
        "outputId": "09e458f6-67ed-4fee-cfa6-822e2c7d6461"
      },
      "execution_count": null,
      "outputs": [
        {
          "output_type": "stream",
          "name": "stdout",
          "text": [
            "xyc abz\n"
          ]
        }
      ]
    },
    {
      "cell_type": "code",
      "source": [
        "# prompt: 21) Write a Python program to add 'in' at the end of a given string (length\n",
        "# should be at least 3). If the given string already ends with 'ing' then\n",
        "# add 'ly' instead if the string length of the given string is less than 3,\n",
        "# leave it unchanged.\n",
        "\n",
        "def add_ing_ly(str1):\n",
        "    if len(str1) < 3:\n",
        "        return str1\n",
        "    elif str1[-3:] == 'ing':\n",
        "        return str1 + 'ly'\n",
        "    else:\n",
        "        return str1 + 'ing'\n",
        "\n",
        "# Test cases\n",
        "print(add_ing_ly(\"ab\"))  # Output: ab\n",
        "print(add_ing_ly(\"abc\")) # Output: abcing\n",
        "print(add_ing_ly(\"string\"))  # Output: stringly\n"
      ],
      "metadata": {
        "colab": {
          "base_uri": "https://localhost:8080/"
        },
        "id": "F4QId0XuoD-h",
        "outputId": "3d8ac536-f362-4e1a-da73-5900f44cb50e"
      },
      "execution_count": null,
      "outputs": [
        {
          "output_type": "stream",
          "name": "stdout",
          "text": [
            "ab\n",
            "abcing\n",
            "stringly\n"
          ]
        }
      ]
    },
    {
      "cell_type": "code",
      "source": [
        "# prompt: 22) Write a Python function to reverses a string if its length is a multiple\n",
        "# of 4.\n",
        "\n",
        "def reverse_string_multiple_of_4(input_string):\n",
        "  \"\"\"Reverses a string if its length is a multiple of 4.\n",
        "\n",
        "  Args:\n",
        "    input_string: The string to potentially reverse.\n",
        "\n",
        "  Returns:\n",
        "    The reversed string if its length is a multiple of 4,\n",
        "    otherwise the original string.\n",
        "  \"\"\"\n",
        "  if len(input_string) % 4 == 0:\n",
        "    return input_string[::-1]  # Reverse the string using slicing\n",
        "  else:\n",
        "    return input_string\n",
        "\n",
        "  print(reverse_string_multiple_of_4(\"part\"))\n",
        "\n"
      ],
      "metadata": {
        "id": "TR5a9j4ToKv5"
      },
      "execution_count": null,
      "outputs": []
    },
    {
      "cell_type": "code",
      "source": [
        "# prompt: 23) Write a Python program to get a string made of the first 2 and the last\n",
        "# 2 chars from a given a string. If the string length is less than 2, return\n",
        "# instead of the empty string.\n",
        "\n",
        "def string_ends(str):\n",
        "    if len(str) < 2:\n",
        "        return \"\"\n",
        "    return str[0:2] + str[-2:]\n",
        "\n",
        "print(string_ends('w3resource'))\n",
        "print(string_ends('w3'))\n",
        "print(string_ends('w'))\n"
      ],
      "metadata": {
        "colab": {
          "base_uri": "https://localhost:8080/"
        },
        "id": "LEMaOZPEoleC",
        "outputId": "d428f670-20d0-4529-cf7a-55b06a97f51c"
      },
      "execution_count": null,
      "outputs": [
        {
          "output_type": "stream",
          "name": "stdout",
          "text": [
            "w3ce\n",
            "w3w3\n",
            "\n"
          ]
        }
      ]
    },
    {
      "cell_type": "code",
      "source": [
        "# prompt: 24)Write a Python function to insert a string in the middle of a string.\n",
        "\n",
        "def insert_string_middle(str1, word):\n",
        "    middle_index = len(str1) // 2\n",
        "    return str1[:middle_index] + word + str1[middle_index:]\n",
        "\n",
        "# Example usage\n",
        "string1 = \"Hello, world!\"\n",
        "word_to_insert = \"Python\"\n",
        "new_string = insert_string_middle(string1, word_to_insert)\n",
        "print(new_string)  # Output: Hello,Python world!\n"
      ],
      "metadata": {
        "colab": {
          "base_uri": "https://localhost:8080/"
        },
        "id": "TC5T3A2OotWz",
        "outputId": "ab547afa-aa6e-429a-b3f4-c8ca85e75247"
      },
      "execution_count": null,
      "outputs": [
        {
          "output_type": "stream",
          "name": "stdout",
          "text": [
            "Hello,Python world!\n"
          ]
        }
      ]
    },
    {
      "cell_type": "markdown",
      "source": [],
      "metadata": {
        "id": "-1cMYunBnUEe"
      }
    },
    {
      "cell_type": "markdown",
      "source": [
        "25)What is List? How will you reverse a list?\n",
        " ans\n",
        "\n",
        " A list is a built-in data structure in Python used to store multiple items in a single variable.\n",
        "Lists are:\n",
        "\n",
        "Ordered (elements have a defined position)\n",
        "\n",
        "Mutable (you can change, add, or remove items)\n",
        "\n",
        "Can contain different data types (int, string, float, etc.)\n",
        "\n",
        "✅ 1. Using reverse() method (modifies the original list):\n",
        "python\n",
        "Copy\n",
        "Edit\n",
        "my_list = [1, 2, 3, 4, 5]\n",
        "my_list.reverse()\n",
        "print(my_list)  \n",
        "\n",
        "\n",
        "✅ 2. Using slicing ([::-1]) (creates a new reversed list):\n",
        "python\n",
        "Copy\n",
        "Edit\n",
        "my_list = [1, 2, 3, 4, 5]\n",
        "reversed_list = my_list[::-1]\n",
        "print(reversed_list)  # Output: [5, 4, 3, 2, 1]\n",
        "\n",
        "\n",
        "✅ 3. Using reversed() function with list():\n",
        "python\n",
        "Copy\n",
        "Edit\n",
        "my_list = [1, 2, 3, 4, 5]\n",
        "reversed_list = list(reversed(my_list))\n",
        "print(reversed_list)  # Output: [5, 4, 3, 2, 1]"
      ],
      "metadata": {
        "id": "ysWweaLqo8ip"
      }
    },
    {
      "cell_type": "code",
      "source": [
        "# 26)How will you remove last object from a list?\n",
        "\n",
        "my_list = [10, 20, 30, 40, 50]\n",
        "my_list.pop()\n",
        "print(my_list)"
      ],
      "metadata": {
        "colab": {
          "base_uri": "https://localhost:8080/"
        },
        "id": "GB3T_Z9ApOe5",
        "outputId": "8e2b6abd-8e2d-450f-8a84-5a313ad4d9e2"
      },
      "execution_count": null,
      "outputs": [
        {
          "output_type": "stream",
          "name": "stdout",
          "text": [
            "[10, 20, 30, 40]\n"
          ]
        }
      ]
    },
    {
      "cell_type": "code",
      "source": [
        "# prompt: 27)Suppose list1 is [2, 33, 222, 14, and 25], what is list1 [-\n",
        "# 1]?\n",
        "\n",
        "list1 = [2, 33, 222, 14, 25]\n",
        "list1[-1]\n"
      ],
      "metadata": {
        "colab": {
          "base_uri": "https://localhost:8080/"
        },
        "id": "Kp5VvAcsphyl",
        "outputId": "4c08715e-0dfd-4d77-e3e0-bff91f4e0fd5"
      },
      "execution_count": null,
      "outputs": [
        {
          "output_type": "execute_result",
          "data": {
            "text/plain": [
              "25"
            ]
          },
          "metadata": {},
          "execution_count": 33
        }
      ]
    },
    {
      "cell_type": "markdown",
      "source": [
        "# 28)Differentiate between append () and extend () methods?\n",
        "\n",
        "\n",
        "🔹 append()\n",
        "Adds a single element to the end of the list.\n",
        "\n",
        "If you append a list, it adds the entire list as one element.\n",
        "\n",
        "🔹 extend()\n",
        "Adds each element of an iterable (like a list, tuple, string) to the list individually.\n",
        "\n",
        "It expands the original list.\n"
      ],
      "metadata": {
        "id": "FAJZDY2Up0H0"
      }
    },
    {
      "cell_type": "code",
      "source": [
        "# prompt: 29) Write a Python function to get the largest number, smallest num\n",
        "# and sum of all from a list.\n",
        "\n",
        "def list_stats(numbers):\n",
        "    \"\"\"\n",
        "    Finds the largest number, smallest number, and sum of all numbers in a list.\n",
        "\n",
        "    Args:\n",
        "        numbers: A list of numbers.\n",
        "\n",
        "    Returns:\n",
        "        A tuple containing the largest number, smallest number, and sum of the numbers.\n",
        "        Returns None if the input list is empty.\n",
        "    \"\"\"\n",
        "    if not numbers:\n",
        "        return None\n",
        "\n",
        "    largest = numbers[0]\n",
        "    smallest = numbers[0]\n",
        "    sum_of_numbers = 0\n",
        "\n",
        "    for number in numbers:\n",
        "      if number > largest:\n",
        "        largest = number\n",
        "      if number < smallest:\n",
        "        smallest = number\n",
        "      sum_of_numbers += number\n",
        "\n",
        "    return largest, smallest, sum_of_numbers\n",
        "\n",
        "#Example usage\n",
        "numbers = [1, 2, 3, 4, 5]\n",
        "largest, smallest, total = list_stats(numbers)\n",
        "\n",
        "if largest is not None:\n",
        "    print(\"Largest number:\", largest)\n",
        "    print(\"Smallest number:\", smallest)\n",
        "    print(\"Sum of numbers:\", total)\n",
        "else:\n",
        "    print(\"The input list is empty.\")\n"
      ],
      "metadata": {
        "colab": {
          "base_uri": "https://localhost:8080/"
        },
        "id": "LfgDPHiUqH0T",
        "outputId": "450f275f-ec4b-457a-8cc6-3f08d967be9a"
      },
      "execution_count": null,
      "outputs": [
        {
          "output_type": "stream",
          "name": "stdout",
          "text": [
            "Largest number: 5\n",
            "Smallest number: 1\n",
            "Sum of numbers: 15\n"
          ]
        }
      ]
    },
    {
      "cell_type": "markdown",
      "source": [
        "30)How will you compare two lists?\n",
        "\n",
        "ANS\n",
        "\n",
        " 1. Using == operator (Direct Comparison)\n",
        " 2. Using sorted() if order doesn't matter\n",
        " 3. Using sets (ignores order & duplicates)\n",
        " 4. Using loops (for custom comparison)\n"
      ],
      "metadata": {
        "id": "38vxe3wbqrYN"
      }
    },
    {
      "cell_type": "code",
      "source": [
        "# prompt: 31) Write a Python program to count the number of strings where the string\n",
        "# length is 2 or more and the first and last character are same from a given list\n",
        "# of strings.\n",
        "\n",
        "def count_strings(string_list):\n",
        "    \"\"\"\n",
        "    Counts strings where the length is 2 or more and the first and last characters are the same.\n",
        "\n",
        "    Args:\n",
        "        string_list: A list of strings.\n",
        "\n",
        "    Returns:\n",
        "        The count of strings that meet the criteria.\n",
        "    \"\"\"\n",
        "    count = 0\n",
        "    for string in string_list:\n",
        "        if len(string) >= 2 and string[0] == string[-1]:\n",
        "            count += 1\n",
        "    return count\n",
        "\n",
        "# Example usage\n",
        "string_list = [\"abcba\", \"121\", \"ab\", \"a\", \"aba\", \"12321\"]\n",
        "result = count_strings(string_list)\n",
        "print(f\"The number of strings meeting the criteria is: {result}\")\n"
      ],
      "metadata": {
        "colab": {
          "base_uri": "https://localhost:8080/"
        },
        "id": "97wD3SqOrG3x",
        "outputId": "951efa49-9fa3-42a5-8b89-32d8e835d66a"
      },
      "execution_count": null,
      "outputs": [
        {
          "output_type": "stream",
          "name": "stdout",
          "text": [
            "The number of strings meeting the criteria is: 4\n"
          ]
        }
      ]
    },
    {
      "cell_type": "code",
      "source": [
        "# prompt: 32)Write a Python program to remove duplicates from a list.\n",
        "\n",
        "def remove_duplicates(input_list):\n",
        "    \"\"\"Removes duplicates from a list while preserving the original order.\n",
        "\n",
        "    Args:\n",
        "        input_list: The list to remove duplicates from.\n",
        "\n",
        "    Returns:\n",
        "        A new list with duplicates removed, maintaining the original order.\n",
        "    \"\"\"\n",
        "    unique_list = []\n",
        "    seen = set()  # Use a set for efficient membership checking\n",
        "\n",
        "    for item in input_list:\n",
        "        if item not in seen:\n",
        "            unique_list.append(item)\n",
        "            seen.add(item)\n",
        "\n",
        "    return unique_list\n",
        "\n",
        "# Example usage:\n",
        "my_list = [1, 2, 2, 3, 4, 4, 5]\n",
        "unique_list = remove_duplicates(my_list)\n",
        "print(unique_list)\n"
      ],
      "metadata": {
        "colab": {
          "base_uri": "https://localhost:8080/"
        },
        "id": "3ACKobqlrhEK",
        "outputId": "58eb406b-7d35-41cf-a842-4d5c8fa058c8"
      },
      "execution_count": null,
      "outputs": [
        {
          "output_type": "stream",
          "name": "stdout",
          "text": [
            "[1, 2, 3, 4, 5]\n"
          ]
        }
      ]
    },
    {
      "cell_type": "code",
      "source": [
        "# prompt: 33)Write a Python program to check a list is empty or not.\n",
        "\n",
        "def is_empty(input_list):\n",
        "  \"\"\"Checks if a list is empty.\n",
        "\n",
        "  Args:\n",
        "    input_list: The list to check.\n",
        "\n",
        "  Returns:\n",
        "    True if the list is empty, False otherwise.\n",
        "  \"\"\"\n",
        "  return len(input_list) == 0\n",
        "\n",
        "# Example usage\n",
        "my_list = []\n",
        "if is_empty(my_list):\n",
        "  print(\"The list is empty.\")\n",
        "else:\n",
        "  print(\"The list is not empty.\")\n",
        "\n",
        "my_list = [1, 2, 3]\n",
        "if is_empty(my_list):\n",
        "  print(\"The list is empty.\")\n",
        "else:\n",
        "  print(\"The list is not empty.\")\n"
      ],
      "metadata": {
        "colab": {
          "base_uri": "https://localhost:8080/"
        },
        "id": "TMbuVQ99rpT6",
        "outputId": "18a07236-eb7d-4535-8296-ca1fee9054fd"
      },
      "execution_count": null,
      "outputs": [
        {
          "output_type": "stream",
          "name": "stdout",
          "text": [
            "The list is empty.\n",
            "The list is not empty.\n"
          ]
        }
      ]
    },
    {
      "cell_type": "code",
      "source": [
        "# prompt: 34) Write a Python function that takes two lists and returns true if they\n",
        "# have at least one common member.\n",
        "\n",
        "def common_member(list1, list2):\n",
        "    result = False\n",
        "    for x in list1:\n",
        "        for y in list2:\n",
        "            if x == y:\n",
        "                result = True\n",
        "                return result\n",
        "    return result\n",
        "\n",
        "# Example usage\n",
        "list1 = [1, 2, 3, 4, 5]\n",
        "list2 = [5, 6, 7, 8, 9]\n",
        "print(common_member(list1, list2))  # Output: True\n",
        "\n",
        "list1 = [1, 2, 3, 4, 5]\n",
        "list2 = [6, 7, 8, 9]\n",
        "print(common_member(list1, list2))  # Output: False\n"
      ],
      "metadata": {
        "colab": {
          "base_uri": "https://localhost:8080/"
        },
        "id": "1reyNZg2rv1o",
        "outputId": "ea967794-7394-4ba9-8d8d-2e48030cbe77"
      },
      "execution_count": null,
      "outputs": [
        {
          "output_type": "stream",
          "name": "stdout",
          "text": [
            "True\n",
            "False\n"
          ]
        }
      ]
    },
    {
      "cell_type": "code",
      "source": [
        "# prompt: 35) Write a Python program to generate and print a list of first and last 5\n",
        "# elements where the values are square of numbers between 1 and 30\n",
        "\n",
        "def square_first_last_five():\n",
        "    squares = [i**2 for i in range(1, 31)]\n",
        "    return squares[:5] + squares[-5:]\n",
        "\n",
        "print(square_first_last_five())\n"
      ],
      "metadata": {
        "colab": {
          "base_uri": "https://localhost:8080/"
        },
        "id": "qw2nez-kr1KF",
        "outputId": "de7deddb-258d-4bcc-f09b-08ae2068a6cc"
      },
      "execution_count": null,
      "outputs": [
        {
          "output_type": "stream",
          "name": "stdout",
          "text": [
            "[1, 4, 9, 16, 25, 676, 729, 784, 841, 900]\n"
          ]
        }
      ]
    },
    {
      "cell_type": "code",
      "source": [
        "# prompt: 36) Write a Python function that takes a list and returns a new list with\n",
        "# unique elements of the first list.\n",
        "\n",
        "def unique_elements(input_list):\n",
        "    \"\"\"\n",
        "    Returns a new list with unique elements from the input list.\n",
        "\n",
        "    Args:\n",
        "        input_list: The input list.\n",
        "\n",
        "    Returns:\n",
        "        A new list containing only the unique elements from the input list,\n",
        "        preserving their original order.\n",
        "    \"\"\"\n",
        "    seen = set()\n",
        "    unique_list = []\n",
        "    for item in input_list:\n",
        "        if item not in seen:\n",
        "            unique_list.append(item)\n",
        "            seen.add(item)\n",
        "    return unique_list\n",
        "    print(unique_elements([1, 2, 3, 2, 4, 1, 5]))\n",
        "\n"
      ],
      "metadata": {
        "id": "FQB8he8fr32O"
      },
      "execution_count": null,
      "outputs": []
    },
    {
      "cell_type": "code",
      "source": [
        "# prompt: 37)Write a Python program to convert a list of characters into a string.\n",
        "\n",
        "def convert_char_list_to_string(char_list):\n",
        "    \"\"\"Converts a list of characters into a string.\n",
        "\n",
        "    Args:\n",
        "        char_list: A list of characters.\n",
        "\n",
        "    Returns:\n",
        "        A string formed by concatenating the characters in the input list.\n",
        "        Returns an empty string if the input list is empty or None.\n",
        "    \"\"\"\n",
        "    if not char_list:\n",
        "        return \"\"\n",
        "    return \"\".join(char_list)\n",
        "\n",
        "# Example usage\n",
        "char_list = ['p', 'a', 'r', 't', 'h']\n",
        "string_result = convert_char_list_to_string(char_list)\n",
        "print(string_result)\n"
      ],
      "metadata": {
        "colab": {
          "base_uri": "https://localhost:8080/"
        },
        "id": "S-omQR1osM78",
        "outputId": "2de0d961-f787-45bb-dea5-d21c2128fa16"
      },
      "execution_count": null,
      "outputs": [
        {
          "output_type": "stream",
          "name": "stdout",
          "text": [
            "parth\n"
          ]
        }
      ]
    },
    {
      "cell_type": "code",
      "source": [
        "# prompt: 38)Write a Python program to select an item randomly from a list.\n",
        "\n",
        "import random\n",
        "\n",
        "def select_random_item(data):\n",
        "    \"\"\"Selects a random item from a list.\n",
        "\n",
        "    Args:\n",
        "        data: A list of items.\n",
        "\n",
        "    Returns:\n",
        "        A randomly selected item from the list, or None if the list is empty.\n",
        "    \"\"\"\n",
        "    if not data:\n",
        "        return None\n",
        "    return random.choice(data)\n",
        "\n",
        "# Example usage:\n",
        "my_list = [1, 2, 3, 4, 5]\n",
        "random_item = select_random_item(my_list)\n",
        "print(f\"Randomly selected item: {random_item}\")\n"
      ],
      "metadata": {
        "colab": {
          "base_uri": "https://localhost:8080/"
        },
        "id": "jJN_VucfsXlq",
        "outputId": "3c36ea46-cca0-403a-c9ff-2f76cf399230"
      },
      "execution_count": null,
      "outputs": [
        {
          "output_type": "stream",
          "name": "stdout",
          "text": [
            "Randomly selected item: 4\n"
          ]
        }
      ]
    },
    {
      "cell_type": "code",
      "source": [
        "# prompt: 39)Write a Python program to find the second smallest number in a list.\n",
        "\n",
        "def find_second_smallest(numbers):\n",
        "    \"\"\"\n",
        "    Finds the second smallest number in a list.\n",
        "\n",
        "    Args:\n",
        "        numbers: A list of numbers.\n",
        "\n",
        "    Returns:\n",
        "        The second smallest number in the list, or None if the list has fewer than two unique elements.\n",
        "    \"\"\"\n",
        "    unique_numbers = sorted(list(set(numbers)))  # Remove duplicates and sort\n",
        "    if len(unique_numbers) < 2:\n",
        "        return None\n",
        "    return unique_numbers[1]\n",
        "\n",
        "# Example usage\n",
        "my_list = [1, 2, 3, 4, 5, 5, 2, 1]\n",
        "second_smallest = find_second_smallest(my_list)\n",
        "if second_smallest is not None:\n",
        "    print(\"The second smallest number is:\", second_smallest)\n",
        "else:\n",
        "    print(\"The list does not have a second smallest number.\")\n"
      ],
      "metadata": {
        "colab": {
          "base_uri": "https://localhost:8080/"
        },
        "id": "zIcNEsMzsdSN",
        "outputId": "7285f941-70ec-4b83-8341-915a2ef287ee"
      },
      "execution_count": null,
      "outputs": [
        {
          "output_type": "stream",
          "name": "stdout",
          "text": [
            "The second smallest number is: 2\n"
          ]
        }
      ]
    },
    {
      "cell_type": "code",
      "source": [
        "# prompt: 40)Write a Python program to get unique values from a list\n",
        "\n",
        "def unique_elements(input_list):\n",
        "    \"\"\"\n",
        "    Returns a new list with unique elements from the input list.\n",
        "\n",
        "    Args:\n",
        "        input_list: The input list.\n",
        "\n",
        "    Returns:\n",
        "        A new list containing only the unique elements from the input list,\n",
        "        preserving their original order.\n",
        "    \"\"\"\n",
        "    seen = set()\n",
        "    unique_list = []\n",
        "    for item in input_list:\n",
        "        if item not in seen:\n",
        "            unique_list.append(item)\n",
        "            seen.add(item)\n",
        "    return unique_list\n",
        "\n",
        "#Example usage\n",
        "my_list = [1, 2, 2, 3, 4, 4, 5]\n",
        "unique_list = unique_elements(my_list)\n",
        "unique_list\n"
      ],
      "metadata": {
        "colab": {
          "base_uri": "https://localhost:8080/"
        },
        "id": "lEALluGYsjVA",
        "outputId": "d5353d22-a0c1-4bd7-c973-134cdba54dd5"
      },
      "execution_count": null,
      "outputs": [
        {
          "output_type": "execute_result",
          "data": {
            "text/plain": [
              "[1, 2, 3, 4, 5]"
            ]
          },
          "metadata": {},
          "execution_count": 14
        }
      ]
    },
    {
      "cell_type": "code",
      "source": [
        "# prompt: 41)Write a Python program to check whether a list contains a sub list\n",
        "\n",
        "def contains_sublist(main_list, sub_list):\n",
        "    \"\"\"Checks if a main list contains a sublist.\n",
        "\n",
        "    Args:\n",
        "        main_list: The main list to search in.\n",
        "        sub_list: The sublist to search for.\n",
        "\n",
        "    Returns:\n",
        "        True if the sublist is found within the main list, False otherwise.\n",
        "    \"\"\"\n",
        "    for i in range(len(main_list) - len(sub_list) + 1):\n",
        "        if main_list[i:i + len(sub_list)] == sub_list:\n",
        "            return True\n",
        "    return False\n",
        "    print(contains_sublist([1, 2, 3, 4, 5], [2, 3]))\n"
      ],
      "metadata": {
        "id": "55r-gTTFssvm"
      },
      "execution_count": null,
      "outputs": []
    },
    {
      "cell_type": "code",
      "source": [
        "# prompt: 42)Write a Python program to split a list into different variables.\n",
        "\n",
        "def split_list(input_list):\n",
        "    \"\"\"Splits a list into different variables.\n",
        "\n",
        "    Args:\n",
        "        input_list: The input list.\n",
        "\n",
        "    Returns:\n",
        "        A tuple containing the first, second, third, and remaining elements of the list.\n",
        "        If the list has fewer than three elements, it returns None for the missing variables.\n",
        "    \"\"\"\n",
        "    if len(input_list) >= 3:\n",
        "      first, second, third = input_list[:3]\n",
        "      rest = input_list[3:]\n",
        "      return first, second, third, rest\n",
        "    else:\n",
        "      if len(input_list) == 2:\n",
        "        first, second = input_list[:2]\n",
        "        return first, second, None, None\n",
        "      elif len(input_list) == 1:\n",
        "        first = input_list[0]\n",
        "        return first, None, None, None\n",
        "      else:\n",
        "          return None, None, None, None\n",
        "\n",
        "# Example usage\n",
        "my_list = [10, 20, 30, 40, 50, 60]\n",
        "a, b, c, d = split_list(my_list)\n",
        "print(a, b, c, d)\n",
        "\n",
        "my_list = [10,20]\n",
        "a, b, c, d = split_list(my_list)\n",
        "print(a, b, c, d)\n"
      ],
      "metadata": {
        "colab": {
          "base_uri": "https://localhost:8080/"
        },
        "id": "ec302hFts-es",
        "outputId": "f6e2202f-90ea-42ae-b00d-8735c967a780"
      },
      "execution_count": null,
      "outputs": [
        {
          "output_type": "stream",
          "name": "stdout",
          "text": [
            "10 20 30 [40, 50, 60]\n",
            "10 20 None None\n"
          ]
        }
      ]
    },
    {
      "cell_type": "markdown",
      "source": [
        "# ***43)What is tuple? Difference between list and tuple.***\n",
        "\n",
        "\n",
        "A tuple is a built-in Python data structure used to store multiple items in a single variable.\n",
        "\n",
        "\n",
        "\n",
        "\n",
        "\n",
        "\n",
        "\n",
        "\n",
        "                                                                                  \n",
        "\n",
        "\n",
        "\n",
        "\n",
        "\n",
        "\n",
        "\n",
        "\n",
        "\n",
        "\n",
        "\n",
        "\n",
        "\n",
        "\n",
        "\n",
        "\n",
        "\n",
        "\n",
        "\n",
        "\n",
        "\n",
        "\n",
        "\n",
        "\n",
        "\n",
        "\n"
      ],
      "metadata": {
        "id": "vPtjDtg4tNdq"
      }
    },
    {
      "cell_type": "code",
      "source": [
        "# prompt: 44)Write a Python program to create a tuple with different data types.\n",
        "\n",
        "# Create a tuple with different data types\n",
        "my_tuple = (1, \"hello\", 3.14, True)\n",
        "\n",
        "my_tuple\n"
      ],
      "metadata": {
        "colab": {
          "base_uri": "https://localhost:8080/"
        },
        "id": "5x_XF5ZR2Cqg",
        "outputId": "e6471a85-bd00-4cf3-b792-73e1fcc2a27e"
      },
      "execution_count": null,
      "outputs": [
        {
          "output_type": "execute_result",
          "data": {
            "text/plain": [
              "(1, 'hello', 3.14, True)"
            ]
          },
          "metadata": {},
          "execution_count": 20
        }
      ]
    },
    {
      "cell_type": "code",
      "source": [
        "# prompt: 45)Write a Python program to unzip a list of tuples into individual lists.\n",
        "\n",
        "def unzip_tuples(list_of_tuples):\n",
        "    \"\"\"Unzips a list of tuples into individual lists.\n",
        "\n",
        "    Args:\n",
        "      list_of_tuples: A list of tuples, where each tuple has the same length.\n",
        "\n",
        "    Returns:\n",
        "      A list of lists, where each inner list corresponds to an element of the tuples.\n",
        "      Returns an empty list if the input list is empty.\n",
        "      Returns None if the tuples have inconsistent lengths.\n",
        "    \"\"\"\n",
        "    if not list_of_tuples:\n",
        "        return []\n",
        "\n",
        "    num_elements = len(list_of_tuples[0])\n",
        "    unzipped_lists = [[] for _ in range(num_elements)]\n",
        "\n",
        "    for tup in list_of_tuples:\n",
        "      if len(tup) != num_elements:\n",
        "        return None # Handle inconsistent tuple lengths\n",
        "      for i, item in enumerate(tup):\n",
        "          unzipped_lists[i].append(item)\n",
        "\n",
        "    return unzipped_lists\n",
        "\n",
        "# Example usage:\n",
        "my_tuples = [(1, 'a'), (2, 'b'), (3, 'c')]\n",
        "result = unzip_tuples(my_tuples)\n",
        "print(result)"
      ],
      "metadata": {
        "colab": {
          "base_uri": "https://localhost:8080/"
        },
        "id": "aCIbGMgMxa7K",
        "outputId": "45111ea7-5d6b-4e95-b4c6-5bd15f9c8424"
      },
      "execution_count": null,
      "outputs": [
        {
          "output_type": "stream",
          "name": "stdout",
          "text": [
            "[[1, 2, 3], ['a', 'b', 'c']]\n"
          ]
        }
      ]
    },
    {
      "cell_type": "code",
      "source": [
        "# prompt: 46)Write a Python program to convert a list of tuples into a dictionary.\n",
        "\n",
        "def convert_list_of_tuples_to_dictionary(list_of_tuples):\n",
        "    \"\"\"Converts a list of tuples into a dictionary.\n",
        "\n",
        "    Args:\n",
        "        list_of_tuples: A list of tuples, where each tuple has two elements (key, value).\n",
        "\n",
        "    Returns:\n",
        "        A dictionary created from the list of tuples.\n",
        "        Returns an empty dictionary if the input list is empty.\n",
        "    \"\"\"\n",
        "    if not list_of_tuples:\n",
        "        return {}  # Return empty dictionary for an empty input list\n",
        "\n",
        "    converted_dict = dict(list_of_tuples)  # Efficiently convert using dict() constructor\n",
        "    return converted_dict\n",
        "\n",
        "#Example\n",
        "my_list = [(1, 'apple'), (2, 'banana'), (3, 'cherry')]\n",
        "result_dict = convert_list_of_tuples_to_dictionary(my_list)\n",
        "result_dict\n"
      ],
      "metadata": {
        "id": "IOEtgxXe2pex",
        "colab": {
          "base_uri": "https://localhost:8080/"
        },
        "outputId": "ddc478af-4abf-4d2c-d37b-f4b9f039f384"
      },
      "execution_count": null,
      "outputs": [
        {
          "output_type": "execute_result",
          "data": {
            "text/plain": [
              "{1: 'apple', 2: 'banana', 3: 'cherry'}"
            ]
          },
          "metadata": {},
          "execution_count": 22
        }
      ]
    },
    {
      "cell_type": "code",
      "source": [],
      "metadata": {
        "id": "jjFtXgRvuyRj"
      },
      "execution_count": null,
      "outputs": []
    },
    {
      "cell_type": "markdown",
      "source": [
        "47)How will you create a dictionary using tuples in python?\n",
        "\n",
        "ans\n",
        "\n",
        "\n",
        "To create a dictionary using tuples in Python, you can use a list of tuples where each tuple contains a key-value pair. Then, pass that list to the dict() constructor."
      ],
      "metadata": {
        "id": "MtjLRK5R3ahi"
      }
    },
    {
      "cell_type": "markdown",
      "source": [
        "48)Write a Python script to sort (ascending and descending) a\n",
        "dictionary by value.\n",
        "\n",
        "ans\n",
        "\n",
        "\n"
      ],
      "metadata": {
        "id": "6MaPK5bi35vj"
      }
    },
    {
      "cell_type": "code",
      "source": [
        "# Sample dictionary\n",
        "my_dict = {'apple': 10, 'banana': 5, 'cherry': 20, 'date': 15}\n",
        "\n",
        "# Sort by value (ascending)\n",
        "asc_sorted = dict(sorted(my_dict.items(), key=lambda item: item[1]))\n",
        "print(\"Ascending order:\", asc_sorted)\n",
        "\n",
        "# Sort by value (descending)\n",
        "desc_sorted = dict(sorted(my_dict.items(), key=lambda item: item[1], reverse=True))\n",
        "print(\"Descending order:\", desc_sorted)"
      ],
      "metadata": {
        "colab": {
          "base_uri": "https://localhost:8080/"
        },
        "id": "W23GtPMe4FT7",
        "outputId": "6e786248-4948-4208-8ba9-e692fdb6bd8b"
      },
      "execution_count": null,
      "outputs": [
        {
          "output_type": "stream",
          "name": "stdout",
          "text": [
            "Ascending order: {'banana': 5, 'apple': 10, 'date': 15, 'cherry': 20}\n",
            "Descending order: {'cherry': 20, 'date': 15, 'apple': 10, 'banana': 5}\n"
          ]
        }
      ]
    },
    {
      "cell_type": "code",
      "source": [
        "# prompt: 49)Write a Python script to concatenate following dictionaries to create\n",
        "# a new one.\n",
        "\n",
        "def concatenate_dictionaries(dict1, dict2):\n",
        "    \"\"\"Concatenates two dictionaries into a new one.\n",
        "\n",
        "    Args:\n",
        "      dict1: The first dictionary.\n",
        "      dict2: The second dictionary.\n",
        "\n",
        "    Returns:\n",
        "      A new dictionary containing all key-value pairs from both input dictionaries.\n",
        "      If a key exists in both dictionaries, the value from dict2 will overwrite the value from dict1.\n",
        "    \"\"\"\n",
        "    new_dict = dict1.copy()  # Create a copy to avoid modifying the original dictionary\n",
        "    new_dict.update(dict2)  # Update with the second dictionary\n",
        "    return new_dict\n",
        "\n",
        "# Example usage:\n",
        "dict1 = {'a': 1, 'b': 2}\n",
        "dict2 = {'c': 3, 'd': 4}\n",
        "concatenated_dict = concatenate_dictionaries(dict1, dict2)\n",
        "print(concatenated_dict)"
      ],
      "metadata": {
        "colab": {
          "base_uri": "https://localhost:8080/"
        },
        "id": "EaPheIbf4H3d",
        "outputId": "f2e889f5-463e-4ab4-d17e-3c8570a54c0e"
      },
      "execution_count": null,
      "outputs": [
        {
          "output_type": "stream",
          "name": "stdout",
          "text": [
            "{'a': 1, 'b': 2, 'c': 3, 'd': 4}\n"
          ]
        }
      ]
    },
    {
      "cell_type": "code",
      "source": [
        "# prompt: 50)Write a Python script to check if a given key already exists in a\n",
        "# dictionary.\n",
        "\n",
        "def check_key(input_dict, key):\n",
        "    \"\"\"Checks if a key exists in a dictionary.\n",
        "\n",
        "    Args:\n",
        "        input_dict: The dictionary to check.\n",
        "        key: The key to search for.\n",
        "\n",
        "    Returns:\n",
        "        True if the key exists in the dictionary, False otherwise.\n",
        "    \"\"\"\n",
        "    return key in input_dict\n",
        "\n",
        "# Example usage\n",
        "my_dict = {\"a\": 1, \"b\": 2, \"c\": 3}\n",
        "key_to_check = \"b\"\n",
        "\n",
        "if check_key(my_dict, key_to_check):\n",
        "    print(f\"The key '{key_to_check}' exists in the dictionary.\")\n",
        "else:\n",
        "    print(f\"The key '{key_to_check}' does not exist in the dictionary.\")\n",
        "\n",
        "key_to_check = \"d\"\n",
        "if check_key(my_dict, key_to_check):\n",
        "    print(f\"The key '{key_to_check}' exists in the dictionary.\")\n",
        "else:\n",
        "    print(f\"The key '{key_to_check}' does not exist in the dictionary.\")\n"
      ],
      "metadata": {
        "colab": {
          "base_uri": "https://localhost:8080/"
        },
        "id": "vgERVaOd4VzR",
        "outputId": "d37304a2-2dc4-4518-c297-cd97a5d704b6"
      },
      "execution_count": null,
      "outputs": [
        {
          "output_type": "stream",
          "name": "stdout",
          "text": [
            "The key 'b' exists in the dictionary.\n",
            "The key 'd' does not exist in the dictionary.\n"
          ]
        }
      ]
    },
    {
      "cell_type": "markdown",
      "source": [
        "51)How Do You Traverse Through a Dictionary Object in Python?\n",
        "\n",
        "ans\n",
        "\n",
        "\n",
        "\n",
        "1. Iterating through keys:\n",
        "python\n",
        "Copy\n",
        "Edit\n",
        "my_dict = {'a': 1, 'b': 2, 'c': 3}\n",
        "\n",
        "for key in my_dict:\n",
        "    print(key, my_dict[key])\n",
        "Or explicitly:\n",
        "\n",
        "python\n",
        "Copy\n",
        "Edit\n",
        "for key in my_dict.keys():\n",
        "    print(key, my_dict[key])\n",
        "\n",
        "2. Iterating through values:\n",
        "python\n",
        "Copy\n",
        "Edit\n",
        "for value in my_dict.values():\n",
        "    print(value)\n",
        "\n",
        "3. Iterating through key-value pairs:\n",
        "python\n",
        "Copy\n",
        "Edit\n",
        "for key, value in my_dict.items():\n",
        "    print(key, value)\n",
        "\n",
        "4. Using enumerate() (if you want index as well):\n",
        "python\n",
        "Copy\n",
        "Edit\n",
        "for index, (key, value) in enumerate(my_dict.items()):\n",
        "    print(index, key, value)\n",
        "\n"
      ],
      "metadata": {
        "id": "f8PUpH8A4gh_"
      }
    },
    {
      "cell_type": "code",
      "source": [
        "#  52)How Do You Check the Presence of a Key in A Dictionary?\n",
        "\n",
        "my_dict = {'name': 'Parth', 'age': 24}\n",
        "\n",
        "if 'name' in my_dict:\n",
        "    print(\"Key exists!\")\n",
        "else:\n",
        "    print(\"Key not found.\")"
      ],
      "metadata": {
        "colab": {
          "base_uri": "https://localhost:8080/"
        },
        "id": "cmaQNccjsH_-",
        "outputId": "db84df06-4053-44f5-dd63-3b7531ebe141"
      },
      "execution_count": null,
      "outputs": [
        {
          "output_type": "stream",
          "name": "stdout",
          "text": [
            "Key exists!\n"
          ]
        }
      ]
    },
    {
      "cell_type": "code",
      "source": [
        "# prompt: 53)Write a Python script to print a dictionary where the keys are\n",
        "# numbers between 1 and 15.\n",
        "\n",
        "def create_dictionary():\n",
        "    \"\"\"\n",
        "    Creates a dictionary where keys are numbers between 1 and 15.\n",
        "    \"\"\"\n",
        "    my_dict = {}\n",
        "    for i in range(1, 16):\n",
        "        my_dict[i] = i * i\n",
        "    return my_dict\n",
        "\n",
        "\n",
        "\n",
        "my_dictionary = create_dictionary()\n",
        "my_dictionary\n"
      ],
      "metadata": {
        "colab": {
          "base_uri": "https://localhost:8080/"
        },
        "id": "A3wYQIf0sVlO",
        "outputId": "2f036f36-ff8d-4b32-bd7c-d9e3a1aa79ab"
      },
      "execution_count": null,
      "outputs": [
        {
          "output_type": "execute_result",
          "data": {
            "text/plain": [
              "{1: 1,\n",
              " 2: 4,\n",
              " 3: 9,\n",
              " 4: 16,\n",
              " 5: 25,\n",
              " 6: 36,\n",
              " 7: 49,\n",
              " 8: 64,\n",
              " 9: 81,\n",
              " 10: 100,\n",
              " 11: 121,\n",
              " 12: 144,\n",
              " 13: 169,\n",
              " 14: 196,\n",
              " 15: 225}"
            ]
          },
          "metadata": {},
          "execution_count": 2
        }
      ]
    },
    {
      "cell_type": "code",
      "source": [
        "# prompt: 54)Write a Python program to check multiple keys exists in a dictionary\n",
        "\n",
        "def check_multiple_keys(input_dict, keys_to_check):\n",
        "    \"\"\"\n",
        "    Checks if multiple keys exist in a dictionary.\n",
        "\n",
        "    Args:\n",
        "        input_dict: The dictionary to check.\n",
        "        keys_to_check: A list of keys to search for.\n",
        "\n",
        "    Returns:\n",
        "        True if all keys exist in the dictionary, False otherwise.\n",
        "    \"\"\"\n",
        "    return all(key in input_dict for key in keys_to_check)\n",
        "\n",
        "# Example usage:\n",
        "my_dict = {\"a\": 1, \"b\": 2, \"c\": 3}\n",
        "keys1 = [\"a\", \"b\"]\n",
        "keys2 = [\"a\", \"d\"]\n",
        "\n",
        "print(check_multiple_keys(my_dict, keys1))\n",
        "print(check_multiple_keys(my_dict, keys2))\n"
      ],
      "metadata": {
        "colab": {
          "base_uri": "https://localhost:8080/"
        },
        "id": "WiR6hFkYsgLd",
        "outputId": "f552beb8-d7b4-4aef-afad-5e5ae0aa3d21"
      },
      "execution_count": null,
      "outputs": [
        {
          "output_type": "stream",
          "name": "stdout",
          "text": [
            "True\n",
            "False\n"
          ]
        }
      ]
    },
    {
      "cell_type": "code",
      "source": [
        "# prompt: 55)Write a Python script to merge two Python dictionaries\n",
        "\n",
        "def concatenate_dictionaries(dict1, dict2):\n",
        "    \"\"\"Concatenates two dictionaries into a new one.\n",
        "\n",
        "    Args:\n",
        "      dict1: The first dictionary.\n",
        "      dict2: The second dictionary.\n",
        "\n",
        "    Returns:\n",
        "      A new dictionary containing all key-value pairs from both input dictionaries.\n",
        "      If a key exists in both dictionaries, the value from dict2 will overwrite the value from dict1.\n",
        "    \"\"\"\n",
        "    new_dict = dict1.copy()\n",
        "    new_dict.update(dict2)\n",
        "    return new_dict\n",
        "\n",
        "dict1 = {'a': 1, 'b': 2}\n",
        "dict2 = {'c': 3, 'd': 4}\n",
        "concatenated_dict = concatenate_dictionaries(dict1, dict2)\n",
        "concatenated_dict\n"
      ],
      "metadata": {
        "colab": {
          "base_uri": "https://localhost:8080/"
        },
        "id": "rUjI3hYvstPs",
        "outputId": "8c575330-7293-4687-d819-4f2d807853be"
      },
      "execution_count": null,
      "outputs": [
        {
          "output_type": "execute_result",
          "data": {
            "text/plain": [
              "{'a': 1, 'b': 2, 'c': 3, 'd': 4}"
            ]
          },
          "metadata": {},
          "execution_count": 4
        }
      ]
    },
    {
      "cell_type": "code",
      "source": [
        "# prompt: 56)Write a Python program to map two lists into a dictionary\n",
        "# Sample output: Counter ({'a': 400, 'b': 400,’d’: 400, 'c': 300}).\n",
        "\n",
        "def map_lists_to_dictionary(keys, values):\n",
        "    \"\"\"Maps two lists into a dictionary.\n",
        "\n",
        "    Args:\n",
        "        keys: A list of keys.\n",
        "        values: A list of values.\n",
        "\n",
        "    Returns:\n",
        "        A dictionary where keys from the first list are mapped to values from the second list.\n",
        "        Returns an empty dictionary if the input lists are empty or of different lengths.\n",
        "    \"\"\"\n",
        "    if not keys or not values or len(keys) != len(values):\n",
        "        return {}\n",
        "\n",
        "    return dict(zip(keys, values))\n",
        "\n",
        "# Example usage:\n",
        "keys = ['a', 'b', 'd', 'c']\n",
        "values = [400, 400, 400, 300]\n",
        "result_dict = map_lists_to_dictionary(keys, values)\n",
        "print(result_dict)  # Output: {'a': 400, 'b': 400, 'd': 400, 'c': 300}\n",
        "\n",
        "from collections import Counter\n",
        "print(Counter(result_dict))\n"
      ],
      "metadata": {
        "colab": {
          "base_uri": "https://localhost:8080/"
        },
        "id": "BDKPQW9is3DK",
        "outputId": "ae02aafc-6a17-4015-986b-c0c557430f50"
      },
      "execution_count": null,
      "outputs": [
        {
          "output_type": "stream",
          "name": "stdout",
          "text": [
            "{'a': 400, 'b': 400, 'd': 400, 'c': 300}\n",
            "Counter({'a': 400, 'b': 400, 'd': 400, 'c': 300})\n"
          ]
        }
      ]
    },
    {
      "cell_type": "code",
      "source": [
        "# prompt: 57)Write a Python program to find the highest 3 values in a dictionary\n",
        "\n",
        "def find_highest_3_values(input_dict):\n",
        "    \"\"\"\n",
        "    Finds the highest 3 values in a dictionary.\n",
        "\n",
        "    Args:\n",
        "        input_dict: The input dictionary.\n",
        "\n",
        "    Returns:\n",
        "        A list containing the 3 highest values in descending order.\n",
        "        Returns the entire sorted list of values if the dictionary has fewer than 3 values.\n",
        "    \"\"\"\n",
        "    if not input_dict:\n",
        "        return []\n",
        "\n",
        "    values = list(input_dict.values())\n",
        "    values.sort(reverse=True)\n",
        "    return values[:3]\n",
        "\n",
        "# Example usage:\n",
        "my_dict = {'a': 10, 'b': 5, 'c': 20, 'd': 15, 'e': 25}\n",
        "highest_3 = find_highest_3_values(my_dict)\n",
        "print(highest_3)  # Output: [25, 20, 15]\n",
        "\n",
        "my_dict = {'a': 10, 'b': 5}\n",
        "highest_3 = find_highest_3_values(my_dict)\n",
        "print(highest_3) # Output: [10,5]\n"
      ],
      "metadata": {
        "id": "tjDM3mbDs9hn"
      },
      "execution_count": null,
      "outputs": []
    },
    {
      "cell_type": "code",
      "source": [
        "# prompt: 58)Write a Python program to combine values in python list of dictionaries.\n",
        "# Sample data: [{'item': 'item1', 'amount': 400}, {'item': 'item2', 'amount':\n",
        "# 300}, o {'item': 'item1', 'amount': 750}]\n",
        "# Expected Output:\n",
        "# • Counter ({'item1': 1150, 'item2': 300})\n",
        "\n",
        "from collections import Counter\n",
        "\n",
        "def combine_values(list_of_dictionaries):\n",
        "    \"\"\"\n",
        "    Combines values in a list of dictionaries based on the 'item' key.\n",
        "\n",
        "    Args:\n",
        "        list_of_dictionaries: A list of dictionaries, where each dictionary has 'item' and 'amount' keys.\n",
        "\n",
        "    Returns:\n",
        "        A Counter object where keys are the 'item' values and values are the sum of 'amount' for each item.\n",
        "    \"\"\"\n",
        "    item_amounts = Counter()\n",
        "    for d in list_of_dictionaries:\n",
        "        item_amounts[d['item']] += d['amount']\n",
        "    return item_amounts\n",
        "\n",
        "# Sample data\n",
        "data = [{'item': 'item1', 'amount': 400}, {'item': 'item2', 'amount': 300}, {'item': 'item1', 'amount': 750}]\n",
        "\n",
        "# Combine values and print the result\n",
        "result = combine_values(data)\n",
        "result\n"
      ],
      "metadata": {
        "colab": {
          "base_uri": "https://localhost:8080/"
        },
        "id": "qJg_Cr-3tDcB",
        "outputId": "a0a67e97-e965-41f4-e6ad-889e23b64fd4"
      },
      "execution_count": null,
      "outputs": [
        {
          "output_type": "execute_result",
          "data": {
            "text/plain": [
              "Counter({'item1': 1150, 'item2': 300})"
            ]
          },
          "metadata": {},
          "execution_count": 6
        }
      ]
    },
    {
      "cell_type": "code",
      "source": [
        "# prompt: 59)Write a Python program to create a dictionary from a string.\n",
        "# Note: Track the count of the letters from the string\n",
        "\n",
        "from collections import defaultdict\n",
        "\n",
        "def string_to_dict(input_string):\n",
        "    \"\"\"\n",
        "    Creates a dictionary from a string, tracking the count of each letter.\n",
        "\n",
        "    Args:\n",
        "        input_string: The input string.\n",
        "\n",
        "    Returns:\n",
        "        A dictionary where keys are the letters in the string and values are their counts.\n",
        "    \"\"\"\n",
        "    char_counts = defaultdict(int)  # Use defaultdict to handle missing keys automatically\n",
        "    for char in input_string:\n",
        "        char_counts[char] += 1\n",
        "    return dict(char_counts)  # Convert back to a regular dictionary if needed\n",
        "\n",
        "# Example usage:\n",
        "my_string = \"programming\"\n",
        "result_dict = string_to_dict(my_string)\n",
        "result_dict\n"
      ],
      "metadata": {
        "id": "wP-D-kn1tNWB"
      },
      "execution_count": null,
      "outputs": []
    },
    {
      "cell_type": "code",
      "source": [
        "# prompt: 60)Sample string:\n",
        "#  'w3resource' Expected output:\n",
        "# • {'3': 1,’s’: 1, 'r': 2, 'u': 1, 'w': 1, 'c': 1, 'e': 2, 'o': 1}\n",
        "\n",
        "def string_to_dict(input_string):\n",
        "    \"\"\"\n",
        "    Creates a dictionary from a string, tracking the count of each letter.\n",
        "\n",
        "    Args:\n",
        "        input_string: The input string.\n",
        "\n",
        "    Returns:\n",
        "        A dictionary where keys are the letters in the string and values are their counts.\n",
        "    \"\"\"\n",
        "    char_counts = {}  # Use a regular dictionary\n",
        "    for char in input_string:\n",
        "        char_counts[char] = char_counts.get(char, 0) + 1\n",
        "    return char_counts\n",
        "\n",
        "# Example usage:\n",
        "my_string = \"w3resource\"\n",
        "result_dict = string_to_dict(my_string)\n",
        "result_dict\n"
      ],
      "metadata": {
        "colab": {
          "base_uri": "https://localhost:8080/"
        },
        "id": "hTvo5D5MtS0P",
        "outputId": "5159622f-6942-4cdf-c133-cf428f285248"
      },
      "execution_count": null,
      "outputs": [
        {
          "output_type": "execute_result",
          "data": {
            "text/plain": [
              "{'w': 1, '3': 1, 'r': 2, 'e': 2, 's': 1, 'o': 1, 'u': 1, 'c': 1}"
            ]
          },
          "metadata": {},
          "execution_count": 7
        }
      ]
    },
    {
      "cell_type": "code",
      "source": [
        "# prompt: 61)Write a Python function to calculate the factorial of a number (a\n",
        "# nonnegative integer)\n",
        "\n",
        "def factorial(n):\n",
        "    \"\"\"\n",
        "    Calculate the factorial of a non-negative integer.\n",
        "\n",
        "    Args:\n",
        "        n: A non-negative integer.\n",
        "\n",
        "    Returns:\n",
        "        The factorial of n, or 1 if n is 0.\n",
        "        Returns an error message if n is negative.\n",
        "    \"\"\"\n",
        "    if n < 0:\n",
        "        return \"Factorial is not defined for negative numbers\"\n",
        "    elif n == 0:\n",
        "        return 1\n",
        "    else:\n",
        "        result = 1\n",
        "        for i in range(1, n + 1):\n",
        "            result *= i\n",
        "        return result\n"
      ],
      "metadata": {
        "id": "X6MWZ1EDtajU"
      },
      "execution_count": null,
      "outputs": []
    },
    {
      "cell_type": "code",
      "source": [
        "# prompt: 62)Write a Python function to check whether a number is in a given range\n",
        "\n",
        "def check_range(number, start, end):\n",
        "    \"\"\"\n",
        "    Checks if a number is within a given range (inclusive).\n",
        "\n",
        "    Args:\n",
        "        number: The number to check.\n",
        "        start: The start of the range.\n",
        "        end: The end of the range.\n",
        "\n",
        "    Returns:\n",
        "        True if the number is within the range, False otherwise.\n",
        "    \"\"\"\n",
        "    return start <= number <= end\n",
        "\n",
        "# Example usage\n",
        "print(check_range(5, 1, 10))\n"
      ],
      "metadata": {
        "colab": {
          "base_uri": "https://localhost:8080/"
        },
        "id": "73MfyqEMtoC_",
        "outputId": "ece8d334-5f8e-4fb8-ac48-c95dd6ba534d"
      },
      "execution_count": null,
      "outputs": [
        {
          "output_type": "stream",
          "name": "stdout",
          "text": [
            "True\n"
          ]
        }
      ]
    },
    {
      "cell_type": "code",
      "source": [
        "# prompt: 63)Write a Python function to check whether a number is perfect or not\n",
        "\n",
        "def is_perfect(n):\n",
        "    \"\"\"\n",
        "    Checks if a number is a perfect number.\n",
        "\n",
        "    Args:\n",
        "      n: The number to check.\n",
        "\n",
        "    Returns:\n",
        "      True if n is a perfect number, False otherwise.\n",
        "    \"\"\"\n",
        "    if n <= 1:\n",
        "        return False\n",
        "\n",
        "    sum_of_divisors = 1  # 1 is always a divisor\n",
        "    for i in range(2, int(n**0.5) + 1):\n",
        "        if n % i == 0:\n",
        "            sum_of_divisors += i\n",
        "            if i * i != n:  # Avoid adding the same divisor twice for perfect squares\n",
        "                sum_of_divisors += n // i\n",
        "    return sum_of_divisors == n\n",
        "\n",
        "# Example usage:\n",
        "print(is_perfect(6))"
      ],
      "metadata": {
        "colab": {
          "base_uri": "https://localhost:8080/"
        },
        "id": "3E9y9r4Ottgw",
        "outputId": "9b47b8c5-7395-48a2-a23b-e6b055815125"
      },
      "execution_count": null,
      "outputs": [
        {
          "output_type": "stream",
          "name": "stdout",
          "text": [
            "True\n"
          ]
        }
      ]
    },
    {
      "cell_type": "code",
      "source": [
        "# prompt: 64)Write a Python function that checks whether a passed string is\n",
        "# palindrome or not\n",
        "\n",
        "def is_palindrome(s):\n",
        "    \"\"\"\n",
        "    Checks if a given string is a palindrome.\n",
        "\n",
        "    Args:\n",
        "      s: The string to check.\n",
        "\n",
        "    Returns:\n",
        "      True if the string is a palindrome, False otherwise.\n",
        "    \"\"\"\n",
        "    processed_string = ''.join(filter(str.isalnum, s)).lower()\n",
        "    return processed_string == processed_string[::-1]\n",
        "\n",
        "# Example usage:\n",
        "string1 = \"racecar\"\n",
        "string2 = \"hello\"\n",
        "string3 = \"A man, a plan, a canal: Panama\"\n",
        "\n",
        "print(f\"'{string1}' is a palindrome: {is_palindrome(string1)}\")"
      ],
      "metadata": {
        "colab": {
          "base_uri": "https://localhost:8080/"
        },
        "id": "IZjRuEYHt1G2",
        "outputId": "85e037c8-4a1d-4c7d-c19d-461a277e5eff"
      },
      "execution_count": null,
      "outputs": [
        {
          "output_type": "stream",
          "name": "stdout",
          "text": [
            "'racecar' is a palindrome: True\n"
          ]
        }
      ]
    },
    {
      "cell_type": "markdown",
      "source": [
        "65)How Many Basic Types of Functions Are Available in Python?\n",
        "\n",
        "ans\n",
        "\n",
        "1. Built-in Functions\n",
        "These are functions that come pre-defined with Python.\n",
        "\n",
        "2. User-defined Functions\n",
        "These are functions that you create using the def keyword.\n",
        "\n"
      ],
      "metadata": {
        "id": "pX9QNMJ3uBCk"
      }
    },
    {
      "cell_type": "code",
      "source": [
        "# prompt: 66)How can you pick a random item from a list or tuple?\n",
        "\n",
        "import random\n",
        "\n",
        "def select_random_item(data):\n",
        "    \"\"\"Selects a random item from a list or tuple.\n",
        "\n",
        "    Args:\n",
        "        data: A list or tuple of items.\n",
        "\n",
        "    Returns:\n",
        "        A randomly selected item from the list or tuple, or None if the list or tuple is empty.\n",
        "    \"\"\"\n",
        "    if not data:\n",
        "        return None\n",
        "    return random.choice(data)\n",
        "\n",
        "# Example usage with a list:\n",
        "my_list = [1, 2, 3, 4, 5]\n",
        "random_item = select_random_item(my_list)\n",
        "print(f\"Randomly selected item from list: {random_item}\")\n",
        "\n"
      ],
      "metadata": {
        "colab": {
          "base_uri": "https://localhost:8080/"
        },
        "id": "4pNCBs9TuQY8",
        "outputId": "cbde97bb-df36-4213-9070-6ac888be2d3d"
      },
      "execution_count": null,
      "outputs": [
        {
          "output_type": "stream",
          "name": "stdout",
          "text": [
            "Randomly selected item from list: 4\n"
          ]
        }
      ]
    },
    {
      "cell_type": "code",
      "source": [
        "# prompt: 67)How can you pick a random item from a range?\n",
        "\n",
        "import random\n",
        "\n",
        "def pick_random_from_range(start, end):\n",
        "    \"\"\"Picks a random item from a range (inclusive).\n",
        "\n",
        "    Args:\n",
        "        start: The starting value of the range.\n",
        "        end: The ending value of the range.\n",
        "\n",
        "    Returns:\n",
        "        A random integer within the specified range, or None if the range is invalid.\n",
        "    \"\"\"\n",
        "    if start > end:\n",
        "        return None  # Invalid range\n",
        "    return random.randint(start, end)\n",
        "\n",
        "# Example usage:\n",
        "random_number = pick_random_from_range(1, 10)\n",
        "print(f\"Random number from 1 to 10: {random_number}\")\n"
      ],
      "metadata": {
        "colab": {
          "base_uri": "https://localhost:8080/"
        },
        "id": "yw4yzNzsubZy",
        "outputId": "b9625f68-42c2-47da-d01d-b44418bc9087"
      },
      "execution_count": null,
      "outputs": [
        {
          "output_type": "stream",
          "name": "stdout",
          "text": [
            "Random number from 1 to 10: 4\n"
          ]
        }
      ]
    },
    {
      "cell_type": "code",
      "source": [
        "# prompt: 68)How can you get a random number in python?\n",
        "\n",
        "import random\n",
        "\n",
        "def pick_random_from_range(start, end):\n",
        "    \"\"\"Picks a random item from a range (inclusive).\n",
        "\n",
        "    Args:\n",
        "        start: The starting value of the range.\n",
        "        end: The ending value of the range.\n",
        "\n",
        "    Returns:\n",
        "        A random integer within the specified range, or None if the range is invalid.\n",
        "    \"\"\"\n",
        "    if start > end:\n",
        "        return None  # Invalid range\n",
        "    return random.randint(start, end)\n",
        "\n",
        "# Example usage:\n",
        "random_number = pick_random_from_range(1, 10)\n",
        "print(f\"Random number from 1 to 10: {random_number}\")\n",
        "\n",
        "def select_random_item(data):\n",
        "    \"\"\"Selects a random item from a list or tuple.\n",
        "\n",
        "    Args:\n",
        "        data: A list or tuple of items.\n",
        "\n",
        "    Returns:\n",
        "        A randomly selected item from the list or tuple, or None if the list or tuple is empty.\n",
        "    \"\"\"\n",
        "    if not data:\n",
        "        return None\n",
        "    return random.choice(data)\n",
        "\n",
        "# Example usage with a list:\n",
        "my_list = [1, 2, 3, 4, 5]\n",
        "random_item = select_random_item(my_list)\n",
        "print(f\"Randomly selected item from list: {random_item}\")\n"
      ],
      "metadata": {
        "colab": {
          "base_uri": "https://localhost:8080/"
        },
        "id": "YlBzPMAJulbl",
        "outputId": "99562406-bf9d-4922-a061-9d9bf6bd4483"
      },
      "execution_count": null,
      "outputs": [
        {
          "output_type": "stream",
          "name": "stdout",
          "text": [
            "Random number from 1 to 10: 5\n",
            "Randomly selected item from list: 4\n"
          ]
        }
      ]
    },
    {
      "cell_type": "code",
      "source": [
        "# prompt: 69)How will you set the starting value in generating random numbers?\n",
        "\n",
        "import random\n",
        "\n",
        "def set_random_seed(seed_value):\n",
        "    \"\"\"Sets the seed for the random number generator.\n",
        "\n",
        "    Args:\n",
        "        seed_value: An integer used as the seed.\n",
        "    \"\"\"\n",
        "    random.seed(seed_value)\n",
        "\n",
        "# Example usage:\n",
        "set_random_seed(42)  # Set the seed to 42\n",
        "random_number = random.random()  # Generate a random number\n",
        "print(random_number)\n",
        "\n"
      ],
      "metadata": {
        "colab": {
          "base_uri": "https://localhost:8080/"
        },
        "id": "DOt-AW_cux_Y",
        "outputId": "63e08736-a5a4-4ed6-af39-77f3b7f2ee27"
      },
      "execution_count": null,
      "outputs": [
        {
          "output_type": "stream",
          "name": "stdout",
          "text": [
            "0.6394267984578837\n"
          ]
        }
      ]
    },
    {
      "cell_type": "code",
      "source": [
        "# prompt: 70) How will you randomize the items of a list in place?\n",
        "\n",
        "import random\n",
        "\n",
        "def randomize_in_place(data):\n",
        "    \"\"\"Randomizes the items of a list in place using the Fisher-Yates shuffle algorithm.\n",
        "\n",
        "    Args:\n",
        "      data: The list to randomize.\n",
        "    \"\"\"\n",
        "    n = len(data)\n",
        "    for i in range(n - 1, 0, -1):\n",
        "        j = random.randint(0, i)\n",
        "        data[i], data[j] = data[j], data[i]\n",
        "\n",
        "# Example usage\n",
        "my_list = [1, 2, 3, 4, 5]\n",
        "randomize_in_place(my_list)\n",
        "my_list\n"
      ],
      "metadata": {
        "colab": {
          "base_uri": "https://localhost:8080/"
        },
        "id": "-3oiya_ru_hx",
        "outputId": "86d07fdb-24b8-4a86-e714-39ede483f02e"
      },
      "execution_count": null,
      "outputs": [
        {
          "output_type": "execute_result",
          "data": {
            "text/plain": [
              "[2, 4, 5, 3, 1]"
            ]
          },
          "metadata": {},
          "execution_count": 20
        }
      ]
    },
    {
      "cell_type": "code",
      "source": [],
      "metadata": {
        "id": "0BxobV7hvGGW"
      },
      "execution_count": null,
      "outputs": []
    },
    {
      "cell_type": "markdown",
      "source": [
        "71)What is File function in python? What are keywords to create\n",
        "and write file.\n",
        "\n",
        "\n",
        "ans\n",
        "\n",
        "In Python, file functions are used to create, read, write, and manipulate files. The main function to work with files is the built-in open() function.\n",
        "\n",
        "\n",
        "\n",
        "Mode     \tMeaning\n",
        "'w'     \tWrite mode (creates a new file or overwrites)\n",
        "'a'\t      Append mode (adds to the end of file)\n",
        "'x'\t     Create mode (creates a new file, error if exists)\n",
        "'r'\t     Read mode (default, error if file doesn't exist)\n",
        "'w+'\t   Write and read (overwrite if exists)\n",
        "'a+'\t   Append and read\n",
        "'rb',   'wb'\tBinary modes for read/write"
      ],
      "metadata": {
        "id": "omCysNh-vKpM"
      }
    },
    {
      "cell_type": "code",
      "source": [
        "# prompt: 72)Write a Python program to read an entire text file.\n",
        "\n",
        "def read_text_file(file_path):\n",
        "    \"\"\"Reads the entire content of a text file.\n",
        "\n",
        "    Args:\n",
        "        file_path: The path to the text file.\n",
        "\n",
        "    Returns:\n",
        "        The content of the file as a string, or None if the file does not exist.\n",
        "    \"\"\"\n",
        "    try:\n",
        "        with open(file_path, 'r') as file:\n",
        "            content = file.read()\n",
        "        return content\n",
        "    except FileNotFoundError:\n",
        "        return None\n",
        "\n",
        "# Example usage (assuming the code is saved as a .py file and you want to read it)\n",
        "file_content = read_text_file('your_file.py')  # Replace 'your_file.py' with the actual file path\n",
        "if file_content:\n",
        "    print(file_content)\n",
        "else:\n",
        "    print(\"File not found.\")\n"
      ],
      "metadata": {
        "colab": {
          "base_uri": "https://localhost:8080/"
        },
        "id": "rnL3kldhvGmX",
        "outputId": "4d384a9d-d8c5-4e24-8eab-9705e7b4e19a"
      },
      "execution_count": null,
      "outputs": [
        {
          "output_type": "stream",
          "name": "stdout",
          "text": [
            "File not found.\n"
          ]
        }
      ]
    },
    {
      "cell_type": "code",
      "source": [
        "# prompt: 73)Write a Python program to append text to a file and display the text.\n",
        "\n",
        "def append_and_display(filename, text_to_append):\n",
        "    try:\n",
        "        # Append text to the file\n",
        "        with open(filename, 'a') as file:\n",
        "            file.write(text_to_append + '\\n')\n",
        "\n",
        "        # Read and display the file content\n",
        "        with open(filename, 'r') as file:\n",
        "            content = file.read()\n",
        "            print(\"File content after appending:\\n\")\n",
        "            print(content)\n",
        "\n",
        "    except Exception as e:\n",
        "        print(\"An error occurred:\", e)\n",
        "\n",
        "# Example usage\n",
        "filename = \"example.txt\"  # Replace with your file name\n",
        "text = \"This is the new line added to the file.\"\n",
        "append_and_display(filename, text)\n"
      ],
      "metadata": {
        "colab": {
          "base_uri": "https://localhost:8080/"
        },
        "id": "UdydPK-zvtvm",
        "outputId": "5c358f95-5cb9-4a53-dfe2-544eaf2b272b"
      },
      "execution_count": null,
      "outputs": [
        {
          "output_type": "stream",
          "name": "stdout",
          "text": [
            "File content after appending:\n",
            "\n",
            "This is the new line added to the file.\n",
            "\n"
          ]
        }
      ]
    },
    {
      "cell_type": "code",
      "source": [
        "# prompt: 74)Write a Python program to read first n lines of a file.\n",
        "\n",
        "def read_first_n_lines(filename, n):\n",
        "    try:\n",
        "        with open(filename, 'r') as file:\n",
        "            for i in range(n):\n",
        "                line = file.readline()\n",
        "                if not line:\n",
        "                    break  # End of file\n",
        "                print(line.strip())\n",
        "    except FileNotFoundError:\n",
        "        print(\"The file was not found.\")\n",
        "    except Exception as e:\n",
        "        print(\"An error occurred:\", e)\n",
        "\n",
        "# Example usage\n",
        "filename = \"example.txt\"  # Replace with your actual file name\n",
        "n = 5  # Number of lines to read\n",
        "read_first_n_lines(filename, n)"
      ],
      "metadata": {
        "colab": {
          "base_uri": "https://localhost:8080/"
        },
        "id": "2rveXuq3vGn7",
        "outputId": "eb6f4bad-1900-4690-c008-4c793ba88741"
      },
      "execution_count": null,
      "outputs": [
        {
          "output_type": "stream",
          "name": "stdout",
          "text": [
            "This is the new line added to the file.\n"
          ]
        }
      ]
    },
    {
      "cell_type": "code",
      "source": [
        "# 74)Write a Python program to read first n lines of a file.\n",
        "def read_first_n_lines(filename, n):\n",
        "    try:\n",
        "        with open(filename, 'r') as file:\n",
        "            for i in range(n):\n",
        "                line = file.readline()\n",
        "                if line == '':\n",
        "                    break  # Stop if end of file is reached\n",
        "                print(line.strip())\n",
        "    except FileNotFoundError:\n",
        "        print(\"File not found!\")\n",
        "\n",
        "# Example usage:\n",
        "filename = \"example.txt\"\n",
        "n = 3\n",
        "read_first_n_lines(filename, n)"
      ],
      "metadata": {
        "colab": {
          "base_uri": "https://localhost:8080/"
        },
        "id": "u18zTZhcvGrY",
        "outputId": "d6b9c88c-e245-45d8-c6b7-bbd7ed878f66"
      },
      "execution_count": null,
      "outputs": [
        {
          "output_type": "stream",
          "name": "stdout",
          "text": [
            "This is the new line added to the file.\n"
          ]
        }
      ]
    },
    {
      "cell_type": "code",
      "source": [
        "# 75)Write a Python program to read last n lines of a file\n",
        "\n",
        "def read_last_n_lines(filename, n):\n",
        "    try:\n",
        "        with open(filename, 'r') as file:\n",
        "            lines = file.readlines()\n",
        "            last_lines = lines[-n:]  # Get last n lines\n",
        "            for line in last_lines:\n",
        "                print(line.strip())\n",
        "    except FileNotFoundError:\n",
        "        print(\"File not found!\")\n",
        "    except Exception as e:\n",
        "        print(\"An error occurred:\", e)\n",
        "\n",
        "# Example usage\n",
        "filename = \"example.txt\"  # Replace with your actual file name\n",
        "n = 3  # Number of last lines to read\n",
        "read_last_n_lines(filename, n)\n",
        "\n"
      ],
      "metadata": {
        "colab": {
          "base_uri": "https://localhost:8080/"
        },
        "id": "vNLliieivGtZ",
        "outputId": "1ec497cf-7bcd-4089-f073-4016580c39c3"
      },
      "execution_count": null,
      "outputs": [
        {
          "output_type": "stream",
          "name": "stdout",
          "text": [
            "This is the new line added to the file.\n"
          ]
        }
      ]
    },
    {
      "cell_type": "code",
      "source": [
        "# 76)Write a Python program to read a file line by line and store it into a list\n",
        "\n",
        "\n",
        "def read_lines_to_list(filename):\n",
        "    try:\n",
        "        with open(filename, 'r') as file:\n",
        "            lines = [line.strip() for line in file]  # Removes newline characters\n",
        "        return lines\n",
        "    except FileNotFoundError:\n",
        "        print(\"File not found!\")\n",
        "        return []\n",
        "    except Exception as e:\n",
        "        print(\"An error occurred:\", e)\n",
        "        return []\n",
        "\n",
        "# Example usage\n",
        "filename = \"example.txt\"  # Replace with your file name\n",
        "lines_list = read_lines_to_list(filename)\n",
        "\n",
        "# Display the list\n",
        "print(\"Lines stored in a list:\")\n",
        "print(lines_list)\n",
        "\n"
      ],
      "metadata": {
        "colab": {
          "base_uri": "https://localhost:8080/"
        },
        "id": "c4IeFQ-6vGv3",
        "outputId": "ad193406-9e89-4068-abc6-5f081eb8610c"
      },
      "execution_count": null,
      "outputs": [
        {
          "output_type": "stream",
          "name": "stdout",
          "text": [
            "Lines stored in a list:\n",
            "['This is the new line added to the file.']\n"
          ]
        }
      ]
    },
    {
      "cell_type": "code",
      "source": [
        "# 77)Write a Python program to read a file line by line store it into a variable.\n",
        "\n",
        "def read_file_to_variable(filename):\n",
        "    try:\n",
        "        with open(filename, 'r') as file:\n",
        "            content = ''\n",
        "            for line in file:\n",
        "                content += line  # Lines already include newline characters\n",
        "        return content\n",
        "    except FileNotFoundError:\n",
        "        print(\"File not found!\")\n",
        "        return \"\"\n",
        "    except Exception as e:\n",
        "        print(\"An error occurred:\", e)\n",
        "        return \"\"\n",
        "\n",
        "# Example usage\n",
        "filename = \"example.txt\"  # Replace with your actual file name\n",
        "file_content = read_file_to_variable(filename)\n",
        "\n",
        "# Display the content stored in the variable\n",
        "print(\"File content stored in variable:\\n\")\n",
        "print(file_content)"
      ],
      "metadata": {
        "colab": {
          "base_uri": "https://localhost:8080/"
        },
        "id": "5LTaDMY_vGx2",
        "outputId": "ff258e7d-47de-4751-bc23-4309b56c72a9"
      },
      "execution_count": null,
      "outputs": [
        {
          "output_type": "stream",
          "name": "stdout",
          "text": [
            "File content stored in variable:\n",
            "\n",
            "This is the new line added to the file.\n",
            "\n"
          ]
        }
      ]
    },
    {
      "cell_type": "code",
      "source": [
        "# 78)Write a python program to find the longest words.\n",
        "\n",
        "\n",
        "def find_longest_words(filename):\n",
        "    try:\n",
        "        with open(filename, 'r') as file:\n",
        "            words = file.read().split()\n",
        "            max_length = len(max(words, key=len))  # Length of longest word\n",
        "            longest_words = [word for word in words if len(word) == max_length]\n",
        "            return longest_words\n",
        "    except FileNotFoundError:\n",
        "        print(\"File not found!\")\n",
        "        return []\n",
        "    except Exception as e:\n",
        "        print(\"An error occurred:\", e)\n",
        "        return []\n",
        "\n",
        "# Example usage\n",
        "filename = \"example.txt\"  # Replace with your file\n",
        "longest = find_longest_words(filename)\n",
        "\n",
        "# Display the longest word(s)\n",
        "print(\"Longest word(s) in the file:\")\n",
        "for word in longest:\n",
        "    print(word)"
      ],
      "metadata": {
        "colab": {
          "base_uri": "https://localhost:8080/"
        },
        "id": "EnOLKQT0vG1H",
        "outputId": "9aeb110a-bfb6-4387-b7cb-0571cc7a5a66"
      },
      "execution_count": null,
      "outputs": [
        {
          "output_type": "stream",
          "name": "stdout",
          "text": [
            "Longest word(s) in the file:\n",
            "added\n",
            "file.\n"
          ]
        }
      ]
    },
    {
      "cell_type": "code",
      "source": [
        "# 79)Write a Python program to count the number of lines in a text file.\n",
        "\n",
        "def count_lines_in_file(filename):\n",
        "    try:\n",
        "        with open(filename, 'r') as file:\n",
        "            line_count = sum(1 for line in file)\n",
        "        return line_count\n",
        "    except FileNotFoundError:\n",
        "        print(\"File not found!\")\n",
        "        return 0\n",
        "    except Exception as e:\n",
        "        print(\"An error occurred:\", e)\n",
        "        return 0\n",
        "\n",
        "# Example usage\n",
        "filename = \"example.txt\"  # Replace with your file name\n",
        "total_lines = count_lines_in_file(filename)\n",
        "\n",
        "print(f\"Total number of lines in the file: {total_lines}\")\n"
      ],
      "metadata": {
        "colab": {
          "base_uri": "https://localhost:8080/"
        },
        "id": "3WO8qJvrvG4e",
        "outputId": "c4db00a8-fcf1-4cba-9030-249eee8bb603"
      },
      "execution_count": null,
      "outputs": [
        {
          "output_type": "stream",
          "name": "stdout",
          "text": [
            "Total number of lines in the file: 1\n"
          ]
        }
      ]
    },
    {
      "cell_type": "code",
      "source": [
        "#  80)Write a Python program to count the frequency of words in a file.\n",
        "\n",
        "def count_word_frequency(filename):\n",
        "    try:\n",
        "        with open(filename, 'r') as file:\n",
        "            text = file.read().lower()  # Read and convert to lowercase\n",
        "            words = text.split()\n",
        "\n",
        "            # Remove punctuation from words (optional)\n",
        "            words = [word.strip('.,!?;:\"()[]') for word in words]\n",
        "\n",
        "            word_count = {}\n",
        "            for word in words:\n",
        "                word_count[word] = word_count.get(word, 0) + 1\n",
        "\n",
        "            return word_count\n",
        "    except FileNotFoundError:\n",
        "        print(\"File not found!\")\n",
        "        return {}\n",
        "    except Exception as e:\n",
        "        print(\"An error occurred:\", e)\n",
        "        return {}\n",
        "\n",
        "# Example usage\n",
        "filename = \"example.txt\"  # Replace with your file name\n",
        "frequencies = count_word_frequency(filename)\n",
        "\n",
        "# Display word frequencies\n",
        "print(\"Word Frequencies:\")\n",
        "for word, count in frequencies.items():\n",
        "    print(f\"{word}: {count}\")\n"
      ],
      "metadata": {
        "colab": {
          "base_uri": "https://localhost:8080/"
        },
        "id": "kMApvL8avG6Q",
        "outputId": "a0d31ff9-4dca-49aa-968f-45ff026a4178"
      },
      "execution_count": null,
      "outputs": [
        {
          "output_type": "stream",
          "name": "stdout",
          "text": [
            "Word Frequencies:\n",
            "this: 1\n",
            "is: 1\n",
            "the: 2\n",
            "new: 1\n",
            "line: 1\n",
            "added: 1\n",
            "to: 1\n",
            "file: 1\n"
          ]
        }
      ]
    },
    {
      "cell_type": "code",
      "source": [
        "# 81)Write a Python program to write a list to a file.\n",
        "\n",
        "def write_list_to_file(filename, data_list):\n",
        "    try:\n",
        "        with open(filename, 'w') as file:\n",
        "            for item in data_list:\n",
        "                file.write(str(item) + '\\n')  # Convert to string and write\n",
        "        print(\"List written to file successfully.\")\n",
        "    except Exception as e:\n",
        "        print(\"An error occurred:\", e)\n",
        "\n",
        "# Example usage\n",
        "my_list = ['apple', 'banana', 'cherry', 'date']\n",
        "filename = \"fruits.txt\"\n",
        "write_list_to_file(filename, my_list)"
      ],
      "metadata": {
        "colab": {
          "base_uri": "https://localhost:8080/"
        },
        "id": "Bedjs6qHvG8S",
        "outputId": "dc6b30a1-0277-499f-b3d2-bfc579af69af"
      },
      "execution_count": null,
      "outputs": [
        {
          "output_type": "stream",
          "name": "stdout",
          "text": [
            "List written to file successfully.\n"
          ]
        }
      ]
    },
    {
      "cell_type": "code",
      "source": [
        "# 82)Write a Python program to copy the contents of a file to another file.\n",
        "\n",
        "\n",
        "def copy_file(source_file, destination_file):\n",
        "    try:\n",
        "        with open(source_file, 'r') as src:\n",
        "            content = src.read()\n",
        "\n",
        "        with open(destination_file, 'w') as dest:\n",
        "            dest.write(content)\n",
        "\n",
        "        print(\"File copied successfully.\")\n",
        "    except FileNotFoundError:\n",
        "        print(\"Source file not found!\")\n",
        "    except Exception as e:\n",
        "        print(\"An error occurred:\", e)\n",
        "\n",
        "# Example usage\n",
        "source = \"source.txt\"        # Replace with your source file\n",
        "destination = \"copy.txt\"     # Replace with your destination file\n",
        "copy_file(source, destination)"
      ],
      "metadata": {
        "colab": {
          "base_uri": "https://localhost:8080/"
        },
        "id": "GShVOxY0yGzQ",
        "outputId": "fd0b4238-58e2-409d-cac1-0834c40ffc27"
      },
      "execution_count": null,
      "outputs": [
        {
          "output_type": "stream",
          "name": "stdout",
          "text": [
            "Source file not found!\n"
          ]
        }
      ]
    },
    {
      "cell_type": "code",
      "source": [],
      "metadata": {
        "id": "or8xDos8yWuy"
      },
      "execution_count": null,
      "outputs": []
    },
    {
      "cell_type": "markdown",
      "source": [
        "83)Explain Exception handling? What is an Error in Python?\n",
        "\n",
        "\n",
        "ans\n",
        "\n",
        "An error is a problem in the program that causes it to stop running. Errors are usually of two types:\n",
        "\n",
        "1. Syntax Errors\n",
        "These occur when Python can't understand the code\\\n",
        "\n",
        "\n",
        "\n",
        "2. Runtime Errors (Exceptions)\n",
        "These occur while the program is running, and they interrupt normal flow.\n",
        "\n"
      ],
      "metadata": {
        "id": "24hQEKg6yXM5"
      }
    },
    {
      "cell_type": "code",
      "source": [],
      "metadata": {
        "id": "jyIKKPh6ymrP"
      },
      "execution_count": null,
      "outputs": []
    },
    {
      "cell_type": "markdown",
      "source": [
        "84)How many except statements can a try-except block have? Name\n",
        "Some built-in exception classes:\n",
        "\n",
        "\n",
        "ans\n",
        "Exception =  Class\tDescription\n",
        "ValueError=   \tRaised when a function gets the right type but wrong value\n",
        "TypeError\t=  Raised when a function gets an object of wrong type\n",
        "ZeroDivisionError=   \tRaised when dividing by zero\n",
        "IndexError=   \tRaised when list index is out of range\n",
        "KeyError\t=  Raised when a dictionary key is not found\n",
        "FileNotFoundError\t=  Raised when a file is not found\n",
        "IOError=  \tRaised when an I/O operation fails\n",
        "ImportError=   \tRaised when an import fails\n",
        "AttributeError\t= Raised when an invalid attribute is accessed\n",
        "NameError\t= Raised when a variable name is not found\n"
      ],
      "metadata": {
        "id": "ZDtSlYYZynrB"
      }
    },
    {
      "cell_type": "markdown",
      "source": [
        "85)When will the else part of try-except-else be executed?\n",
        "\n",
        "\n",
        "ans\n",
        "\n",
        "The **else** block is only executed if no exceptions occur in the try block.\n",
        "\n"
      ],
      "metadata": {
        "id": "36LXxQorzAXC"
      }
    },
    {
      "cell_type": "markdown",
      "source": [
        "86)Can one block of except statements handle multiple exception?\n",
        "\n",
        "\n",
        "ans\n",
        "\n",
        ", a single except block can handle multiple exceptions by using a tuple of exception types. ✅\n",
        "\n"
      ],
      "metadata": {
        "id": "j0G8r_xJzJ5F"
      }
    },
    {
      "cell_type": "markdown",
      "source": [
        "87)When is the finally block executed?\n",
        "\n",
        "\n",
        "ans\n",
        "\n",
        "The **finally** block is always executed, no matter what happens in the try or except blocks.\n",
        "\n"
      ],
      "metadata": {
        "id": "eeKpENXyzXE7"
      }
    },
    {
      "cell_type": "markdown",
      "source": [
        "88)What happens when „1‟== 1 is executed?\n",
        "\n",
        "ans\n",
        "\n",
        "\n",
        "\"1\" → a string\n",
        "\n",
        "1 → an integer\n",
        "\n",
        "\n",
        "\"1\" == 1 → False ✅\n",
        "\n",
        "int(\"1\") == 1 → True ✅ (after converting string to int)"
      ],
      "metadata": {
        "id": "lFT911u9zh7L"
      }
    },
    {
      "cell_type": "code",
      "source": [
        "# 89)How Do You Handle Exceptions with Try/Except/Finally in Python? Explain with coding snippets.\n",
        "\n",
        "\n",
        "def divide(a, b):\n",
        "    try:\n",
        "        result = a / b\n",
        "        print(\"Result:\", result)\n",
        "    except ZeroDivisionError:\n",
        "        print(\"Error: Cannot divide by zero!\")\n",
        "    finally:\n",
        "        print(\"Execution completed (finally block).\")\n",
        "\n",
        "# Test the function\n",
        "divide(10, 2)\n",
        "divide(5, 0)\n"
      ],
      "metadata": {
        "colab": {
          "base_uri": "https://localhost:8080/"
        },
        "id": "FhWwmaYPz_CE",
        "outputId": "9ed636d5-c3f8-46d2-eb7c-d1d44970c2b2"
      },
      "execution_count": null,
      "outputs": [
        {
          "output_type": "stream",
          "name": "stdout",
          "text": [
            "Result: 5.0\n",
            "Execution completed (finally block).\n",
            "Error: Cannot divide by zero!\n",
            "Execution completed (finally block).\n"
          ]
        }
      ]
    },
    {
      "cell_type": "code",
      "source": [
        "# 90)Write python program that user to enter only odd numbers, else will raise an exception.\n",
        "\n",
        "\n",
        "\n",
        "def get_odd_number():\n",
        "    try:\n",
        "        num = int(input(\"Enter an odd number: \"))\n",
        "        if num % 2 == 0:\n",
        "            raise ValueError(\"That's not an odd number!\")  # Custom exception\n",
        "        print(f\"Thank you! You entered an odd number: {num}\")\n",
        "    except ValueError as ve:\n",
        "        print(\"Error:\", ve)\n",
        "\n",
        "# Run the function\n",
        "get_odd_number()"
      ],
      "metadata": {
        "colab": {
          "base_uri": "https://localhost:8080/"
        },
        "id": "MO6K32Cy0OFH",
        "outputId": "bdd8a12b-c2d6-451e-eb05-471392e5635f"
      },
      "execution_count": null,
      "outputs": [
        {
          "output_type": "stream",
          "name": "stdout",
          "text": [
            "Enter an odd number: 56\n",
            "Error: That's not an odd number!\n"
          ]
        }
      ]
    }
  ]
}